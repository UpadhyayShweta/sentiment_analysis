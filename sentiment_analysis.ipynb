{
 "cells": [
  {
   "cell_type": "code",
   "execution_count": 1,
   "id": "c42ae64f-163d-4eff-af35-dadf71ccc456",
   "metadata": {
    "tags": []
   },
   "outputs": [],
   "source": [
    "# !pip install textblob\n",
    "\n",
    "# !pip install spacy\n",
    "# !python -m textblob.download_corpora\n",
    "# !python -m spacy download en_core_web_sm"
   ]
  },
  {
   "cell_type": "code",
   "execution_count": 2,
   "id": "a8922fe3-0316-49f7-8001-1b4c60d83591",
   "metadata": {
    "tags": []
   },
   "outputs": [],
   "source": [
    "import pandas as pd\n",
    "import numpy as np\n",
    "import datetime as dt\n",
    "from pathlib import Path"
   ]
  },
  {
   "cell_type": "code",
   "execution_count": 3,
   "id": "f0b5ee46-2c54-475b-b11a-fa1c659e74cf",
   "metadata": {
    "tags": []
   },
   "outputs": [
    {
     "data": {
      "text/html": [
       "<div>\n",
       "<style scoped>\n",
       "    .dataframe tbody tr th:only-of-type {\n",
       "        vertical-align: middle;\n",
       "    }\n",
       "\n",
       "    .dataframe tbody tr th {\n",
       "        vertical-align: top;\n",
       "    }\n",
       "\n",
       "    .dataframe thead th {\n",
       "        text-align: right;\n",
       "    }\n",
       "</style>\n",
       "<table border=\"1\" class=\"dataframe\">\n",
       "  <thead>\n",
       "    <tr style=\"text-align: right;\">\n",
       "      <th></th>\n",
       "      <th>ticker_symbol</th>\n",
       "    </tr>\n",
       "    <tr>\n",
       "      <th>tweet_id</th>\n",
       "      <th></th>\n",
       "    </tr>\n",
       "  </thead>\n",
       "  <tbody>\n",
       "    <tr>\n",
       "      <th>608720439712489472</th>\n",
       "      <td>AAPL</td>\n",
       "    </tr>\n",
       "  </tbody>\n",
       "</table>\n",
       "</div>"
      ],
      "text/plain": [
       "                   ticker_symbol\n",
       "tweet_id                        \n",
       "608720439712489472          AAPL"
      ]
     },
     "execution_count": 3,
     "metadata": {},
     "output_type": "execute_result"
    }
   ],
   "source": [
    "#Read data from Company_Tweet.csv\n",
    "Company_Tweet_df = pd.read_csv(Path(\"Resources/Company_Tweet.csv\"))\n",
    "Company_Tweet_df = Company_Tweet_df.set_index('tweet_id')\n",
    "Company_Tweet_df.sample()"
   ]
  },
  {
   "cell_type": "code",
   "execution_count": 4,
   "id": "3911c1a2-0215-45ef-acc9-e89b50b0dd60",
   "metadata": {
    "tags": []
   },
   "outputs": [
    {
     "data": {
      "text/html": [
       "<div>\n",
       "<style scoped>\n",
       "    .dataframe tbody tr th:only-of-type {\n",
       "        vertical-align: middle;\n",
       "    }\n",
       "\n",
       "    .dataframe tbody tr th {\n",
       "        vertical-align: top;\n",
       "    }\n",
       "\n",
       "    .dataframe thead th {\n",
       "        text-align: right;\n",
       "    }\n",
       "</style>\n",
       "<table border=\"1\" class=\"dataframe\">\n",
       "  <thead>\n",
       "    <tr style=\"text-align: right;\">\n",
       "      <th></th>\n",
       "      <th>writer</th>\n",
       "      <th>post_date</th>\n",
       "      <th>body</th>\n",
       "      <th>comment_num</th>\n",
       "      <th>retweet_num</th>\n",
       "      <th>like_num</th>\n",
       "    </tr>\n",
       "    <tr>\n",
       "      <th>tweet_id</th>\n",
       "      <th></th>\n",
       "      <th></th>\n",
       "      <th></th>\n",
       "      <th></th>\n",
       "      <th></th>\n",
       "      <th></th>\n",
       "    </tr>\n",
       "  </thead>\n",
       "  <tbody>\n",
       "    <tr>\n",
       "      <th>608967557559820288</th>\n",
       "      <td>Zercatto</td>\n",
       "      <td>1434024154</td>\n",
       "      <td>Apple Pay to Link to Loyalty Cards and Roll Ou...</td>\n",
       "      <td>0</td>\n",
       "      <td>0</td>\n",
       "      <td>0</td>\n",
       "    </tr>\n",
       "  </tbody>\n",
       "</table>\n",
       "</div>"
      ],
      "text/plain": [
       "                      writer   post_date  \\\n",
       "tweet_id                                   \n",
       "608967557559820288  Zercatto  1434024154   \n",
       "\n",
       "                                                                 body  \\\n",
       "tweet_id                                                                \n",
       "608967557559820288  Apple Pay to Link to Loyalty Cards and Roll Ou...   \n",
       "\n",
       "                    comment_num  retweet_num  like_num  \n",
       "tweet_id                                                \n",
       "608967557559820288            0            0         0  "
      ]
     },
     "execution_count": 4,
     "metadata": {},
     "output_type": "execute_result"
    }
   ],
   "source": [
    "#Read data from Tweet.csv\n",
    "tweet_df = pd.read_csv(Path(\"Resources/Tweet.csv\"))\n",
    "tweet_df = tweet_df.set_index('tweet_id')\n",
    "tweet_df.sample()"
   ]
  },
  {
   "cell_type": "code",
   "execution_count": 5,
   "id": "585b9c1e-98d1-4f72-b431-aedf9d21f800",
   "metadata": {
    "tags": []
   },
   "outputs": [],
   "source": [
    "#merge to df into one\n",
    "Company_tweet_result = tweet_df.merge(Company_Tweet_df, left_index=True, right_index=True)"
   ]
  },
  {
   "cell_type": "code",
   "execution_count": 6,
   "id": "45197158-2f17-458e-9adc-b2b6f2b28cc8",
   "metadata": {
    "tags": []
   },
   "outputs": [
    {
     "data": {
      "text/html": [
       "<div>\n",
       "<style scoped>\n",
       "    .dataframe tbody tr th:only-of-type {\n",
       "        vertical-align: middle;\n",
       "    }\n",
       "\n",
       "    .dataframe tbody tr th {\n",
       "        vertical-align: top;\n",
       "    }\n",
       "\n",
       "    .dataframe thead th {\n",
       "        text-align: right;\n",
       "    }\n",
       "</style>\n",
       "<table border=\"1\" class=\"dataframe\">\n",
       "  <thead>\n",
       "    <tr style=\"text-align: right;\">\n",
       "      <th></th>\n",
       "      <th>ticker_symbol</th>\n",
       "      <th>post_date</th>\n",
       "      <th>body</th>\n",
       "    </tr>\n",
       "    <tr>\n",
       "      <th>tweet_id</th>\n",
       "      <th></th>\n",
       "      <th></th>\n",
       "      <th></th>\n",
       "    </tr>\n",
       "  </thead>\n",
       "  <tbody>\n",
       "    <tr>\n",
       "      <th>565231231843856384</th>\n",
       "      <td>AAPL</td>\n",
       "      <td>1423596601</td>\n",
       "      <td>$AAPL - GreenRedSignal-AAPL -</td>\n",
       "    </tr>\n",
       "  </tbody>\n",
       "</table>\n",
       "</div>"
      ],
      "text/plain": [
       "                   ticker_symbol   post_date                           body\n",
       "tweet_id                                                                   \n",
       "565231231843856384          AAPL  1423596601  $AAPL - GreenRedSignal-AAPL -"
      ]
     },
     "execution_count": 6,
     "metadata": {},
     "output_type": "execute_result"
    }
   ],
   "source": [
    "#select relavent ticker and column.\n",
    "selected_df = Company_tweet_result[Company_tweet_result['ticker_symbol'].isin(['AAPL', 'TSLA', 'AMZN'])]\n",
    "selected_df = selected_df[['ticker_symbol', 'post_date','body']]\n",
    "selected_df.sample()"
   ]
  },
  {
   "cell_type": "code",
   "execution_count": 7,
   "id": "14ef7d68-4cd3-4205-8c63-423ee279253e",
   "metadata": {},
   "outputs": [],
   "source": [
    "# define Start date & end date to use for boolean indexing to filter the rows\n",
    "start_date = '2019-01-01 00:00:00'\n",
    "end_date = '2022-12-31 23:59:59'"
   ]
  },
  {
   "cell_type": "code",
   "execution_count": 8,
   "id": "ead75e1d-986d-417f-a1da-a5930755b416",
   "metadata": {
    "tags": []
   },
   "outputs": [
    {
     "data": {
      "text/html": [
       "<div>\n",
       "<style scoped>\n",
       "    .dataframe tbody tr th:only-of-type {\n",
       "        vertical-align: middle;\n",
       "    }\n",
       "\n",
       "    .dataframe tbody tr th {\n",
       "        vertical-align: top;\n",
       "    }\n",
       "\n",
       "    .dataframe thead th {\n",
       "        text-align: right;\n",
       "    }\n",
       "</style>\n",
       "<table border=\"1\" class=\"dataframe\">\n",
       "  <thead>\n",
       "    <tr style=\"text-align: right;\">\n",
       "      <th></th>\n",
       "      <th>hashtags</th>\n",
       "      <th>text</th>\n",
       "    </tr>\n",
       "    <tr>\n",
       "      <th>date</th>\n",
       "      <th></th>\n",
       "      <th></th>\n",
       "    </tr>\n",
       "  </thead>\n",
       "  <tbody>\n",
       "    <tr>\n",
       "      <th>2019-01-01 00:00:30</th>\n",
       "      <td>TSLA</td>\n",
       "      <td>!!  8 Hours Left !!The picture you see here is...</td>\n",
       "    </tr>\n",
       "    <tr>\n",
       "      <th>2019-01-01 00:03:05</th>\n",
       "      <td>TSLA</td>\n",
       "      <td>$3750 would be the minimum discount in any cas...</td>\n",
       "    </tr>\n",
       "    <tr>\n",
       "      <th>2019-01-01 00:03:20</th>\n",
       "      <td>TSLA</td>\n",
       "      <td>There are FUDking analysts like those from gol...</td>\n",
       "    </tr>\n",
       "    <tr>\n",
       "      <th>2019-01-01 00:04:35</th>\n",
       "      <td>TSLA</td>\n",
       "      <td>I really hope they report ‘unbelievable’ numbe...</td>\n",
       "    </tr>\n",
       "    <tr>\n",
       "      <th>2019-01-01 00:07:33</th>\n",
       "      <td>TSLA</td>\n",
       "      <td>#TESLA : $TSLA Dec-31 Update #StockMarket #Tec...</td>\n",
       "    </tr>\n",
       "  </tbody>\n",
       "</table>\n",
       "</div>"
      ],
      "text/plain": [
       "                    hashtags  \\\n",
       "date                           \n",
       "2019-01-01 00:00:30     TSLA   \n",
       "2019-01-01 00:03:05     TSLA   \n",
       "2019-01-01 00:03:20     TSLA   \n",
       "2019-01-01 00:04:35     TSLA   \n",
       "2019-01-01 00:07:33     TSLA   \n",
       "\n",
       "                                                                  text  \n",
       "date                                                                    \n",
       "2019-01-01 00:00:30  !!  8 Hours Left !!The picture you see here is...  \n",
       "2019-01-01 00:03:05  $3750 would be the minimum discount in any cas...  \n",
       "2019-01-01 00:03:20  There are FUDking analysts like those from gol...  \n",
       "2019-01-01 00:04:35  I really hope they report ‘unbelievable’ numbe...  \n",
       "2019-01-01 00:07:33  #TESLA : $TSLA Dec-31 Update #StockMarket #Tec...  "
      ]
     },
     "execution_count": 8,
     "metadata": {},
     "output_type": "execute_result"
    }
   ],
   "source": [
    "#convert date into standard format\n",
    "selected_df['post_date'] = pd.to_datetime(selected_df['post_date'], unit='s')\n",
    "\n",
    "#filter the data based on post date ranging between start and end date\n",
    "#rename columns to date, hashtags, text to make the dataframe consistent for concatenation\n",
    "stock_tweet_df = selected_df[(selected_df['post_date'] >= start_date) & (selected_df['post_date'] <= end_date)]\n",
    "stock_tweet_df = stock_tweet_df[['ticker_symbol', 'post_date', 'body']]\n",
    "stock_tweet_df.columns = ['hashtags', 'date', 'text']\n",
    "stock_tweet_df = stock_tweet_df.set_index('date')\n",
    "stock_tweet_df.dropna(inplace = True)\n",
    "stock_tweet_df.head()"
   ]
  },
  {
   "cell_type": "code",
   "execution_count": 9,
   "id": "03d5a057-c5c8-4c30-a27a-258cecaac607",
   "metadata": {
    "tags": []
   },
   "outputs": [
    {
     "data": {
      "text/html": [
       "<div>\n",
       "<style scoped>\n",
       "    .dataframe tbody tr th:only-of-type {\n",
       "        vertical-align: middle;\n",
       "    }\n",
       "\n",
       "    .dataframe tbody tr th {\n",
       "        vertical-align: top;\n",
       "    }\n",
       "\n",
       "    .dataframe thead th {\n",
       "        text-align: right;\n",
       "    }\n",
       "</style>\n",
       "<table border=\"1\" class=\"dataframe\">\n",
       "  <thead>\n",
       "    <tr style=\"text-align: right;\">\n",
       "      <th></th>\n",
       "      <th>date</th>\n",
       "      <th>hashtags</th>\n",
       "      <th>text</th>\n",
       "    </tr>\n",
       "  </thead>\n",
       "  <tbody>\n",
       "    <tr>\n",
       "      <th>1</th>\n",
       "      <td>11/15/2021 7:26:35</td>\n",
       "      <td>ETH</td>\n",
       "      <td>Adopted a Hypocat #053, “Crazy Rich Cat” 🤑💵💵💵🤩...</td>\n",
       "    </tr>\n",
       "    <tr>\n",
       "      <th>7</th>\n",
       "      <td>11/15/2021 7:25:36</td>\n",
       "      <td>ETH</td>\n",
       "      <td>I've just minted \"Waterfall graph \" collectibl...</td>\n",
       "    </tr>\n",
       "    <tr>\n",
       "      <th>9</th>\n",
       "      <td>11/15/2021 7:25:14</td>\n",
       "      <td>ETH</td>\n",
       "      <td>You can do Cloud Mining using this site https:...</td>\n",
       "    </tr>\n",
       "    <tr>\n",
       "      <th>13</th>\n",
       "      <td>11/15/2021 7:24:48</td>\n",
       "      <td>ETH</td>\n",
       "      <td>@michaeljburry @elonmusk @BernieSanders Just #...</td>\n",
       "    </tr>\n",
       "    <tr>\n",
       "      <th>15</th>\n",
       "      <td>11/15/2021 7:24:36</td>\n",
       "      <td>ETH</td>\n",
       "      <td>Top 10 coins by 3-months Twitter Volume \\n\\n$b...</td>\n",
       "    </tr>\n",
       "  </tbody>\n",
       "</table>\n",
       "</div>"
      ],
      "text/plain": [
       "                  date hashtags  \\\n",
       "1   11/15/2021 7:26:35      ETH   \n",
       "7   11/15/2021 7:25:36      ETH   \n",
       "9   11/15/2021 7:25:14      ETH   \n",
       "13  11/15/2021 7:24:48      ETH   \n",
       "15  11/15/2021 7:24:36      ETH   \n",
       "\n",
       "                                                 text  \n",
       "1   Adopted a Hypocat #053, “Crazy Rich Cat” 🤑💵💵💵🤩...  \n",
       "7   I've just minted \"Waterfall graph \" collectibl...  \n",
       "9   You can do Cloud Mining using this site https:...  \n",
       "13  @michaeljburry @elonmusk @BernieSanders Just #...  \n",
       "15  Top 10 coins by 3-months Twitter Volume \\n\\n$b...  "
      ]
     },
     "execution_count": 9,
     "metadata": {},
     "output_type": "execute_result"
    }
   ],
   "source": [
    "# Read data from Ethereum_tweets.csv \n",
    "ethereum_tweets = pd.read_csv(\n",
    "    Path(\"Resources/Ethereum_tweets.csv\",\n",
    "    index_col='date', \n",
    "    parse_dates=True, \n",
    "    infer_datetime_format=True\n",
    ")).dropna()\n",
    "ethereum_tweets['hashtags'] = 'ETH'\n",
    "ethereum_tweets = ethereum_tweets[[\"date\", \"hashtags\", \"text\"]]\n",
    "ethereum_tweets.head(5)"
   ]
  },
  {
   "cell_type": "code",
   "execution_count": null,
   "id": "bc1559a0-2b0b-4d74-8e82-39728109a36d",
   "metadata": {},
   "outputs": [],
   "source": []
  },
  {
   "cell_type": "code",
   "execution_count": 10,
   "id": "16390b82-d194-40d1-b437-1ebbe663c46c",
   "metadata": {},
   "outputs": [
    {
     "name": "stderr",
     "output_type": "stream",
     "text": [
      "/var/folders/cn/35r59ch52r57x3jrltx7y1hh0000gn/T/ipykernel_88655/858102628.py:1: DtypeWarning: Columns (9,10) have mixed types. Specify dtype option on import or set low_memory=False.\n",
      "  btc_tweet = pd.read_csv(Path(\"Resources/Bitcoin_tweets.csv\"),usecols = [\"date\", \"hashtags\", \"text\"],\n"
     ]
    },
    {
     "data": {
      "text/html": [
       "<div>\n",
       "<style scoped>\n",
       "    .dataframe tbody tr th:only-of-type {\n",
       "        vertical-align: middle;\n",
       "    }\n",
       "\n",
       "    .dataframe tbody tr th {\n",
       "        vertical-align: top;\n",
       "    }\n",
       "\n",
       "    .dataframe thead th {\n",
       "        text-align: right;\n",
       "    }\n",
       "</style>\n",
       "<table border=\"1\" class=\"dataframe\">\n",
       "  <thead>\n",
       "    <tr style=\"text-align: right;\">\n",
       "      <th></th>\n",
       "      <th>text</th>\n",
       "      <th>hashtags</th>\n",
       "    </tr>\n",
       "    <tr>\n",
       "      <th>date</th>\n",
       "      <th></th>\n",
       "      <th></th>\n",
       "    </tr>\n",
       "  </thead>\n",
       "  <tbody>\n",
       "    <tr>\n",
       "      <th>2021-02-10 23:59:04</th>\n",
       "      <td>Blue Ridge Bank shares halted by NYSE after #b...</td>\n",
       "      <td>['bitcoin']</td>\n",
       "    </tr>\n",
       "    <tr>\n",
       "      <th>2021-02-10 23:58:48</th>\n",
       "      <td>😎 Today, that's this #Thursday, we will do a \"...</td>\n",
       "      <td>['Thursday', 'Btc', 'wallet', 'security']</td>\n",
       "    </tr>\n",
       "    <tr>\n",
       "      <th>2021-02-10 23:54:48</th>\n",
       "      <td>Guys evening, I have read this article about B...</td>\n",
       "      <td>NaN</td>\n",
       "    </tr>\n",
       "    <tr>\n",
       "      <th>2021-02-10 23:54:33</th>\n",
       "      <td>$BTC A big chance in a billion! Price: \\487264...</td>\n",
       "      <td>['Bitcoin', 'FX', 'BTC', 'crypto']</td>\n",
       "    </tr>\n",
       "    <tr>\n",
       "      <th>2021-02-10 23:54:06</th>\n",
       "      <td>This network is secured by 9 508 nodes as of t...</td>\n",
       "      <td>['BTC']</td>\n",
       "    </tr>\n",
       "  </tbody>\n",
       "</table>\n",
       "</div>"
      ],
      "text/plain": [
       "                                                                  text  \\\n",
       "date                                                                     \n",
       "2021-02-10 23:59:04  Blue Ridge Bank shares halted by NYSE after #b...   \n",
       "2021-02-10 23:58:48  😎 Today, that's this #Thursday, we will do a \"...   \n",
       "2021-02-10 23:54:48  Guys evening, I have read this article about B...   \n",
       "2021-02-10 23:54:33  $BTC A big chance in a billion! Price: \\487264...   \n",
       "2021-02-10 23:54:06  This network is secured by 9 508 nodes as of t...   \n",
       "\n",
       "                                                      hashtags  \n",
       "date                                                            \n",
       "2021-02-10 23:59:04                                ['bitcoin']  \n",
       "2021-02-10 23:58:48  ['Thursday', 'Btc', 'wallet', 'security']  \n",
       "2021-02-10 23:54:48                                        NaN  \n",
       "2021-02-10 23:54:33         ['Bitcoin', 'FX', 'BTC', 'crypto']  \n",
       "2021-02-10 23:54:06                                    ['BTC']  "
      ]
     },
     "execution_count": 10,
     "metadata": {},
     "output_type": "execute_result"
    }
   ],
   "source": [
    "btc_tweet = pd.read_csv(Path(\"Resources/Bitcoin_tweets.csv\"),usecols = [\"date\", \"hashtags\", \"text\"], \n",
    "                           index_col=[\"date\"],\n",
    "                            parse_dates=[\"date\"])\n",
    "btc_tweet = btc_tweet[(btc_tweet.index <= end_date) |(btc_tweet.index >= start_date)]\n",
    "btc_tweet.head(5)"
   ]
  },
  {
   "cell_type": "code",
   "execution_count": 11,
   "id": "fec2f798-4981-4d39-86c2-26f3fe8cb55e",
   "metadata": {},
   "outputs": [
    {
     "name": "stderr",
     "output_type": "stream",
     "text": [
      "/var/folders/cn/35r59ch52r57x3jrltx7y1hh0000gn/T/ipykernel_88655/2373100493.py:8: SettingWithCopyWarning: \n",
      "A value is trying to be set on a copy of a slice from a DataFrame.\n",
      "Try using .loc[row_indexer,col_indexer] = value instead\n",
      "\n",
      "See the caveats in the documentation: https://pandas.pydata.org/pandas-docs/stable/user_guide/indexing.html#returning-a-view-versus-a-copy\n",
      "  btc_tweet_df['hashtags'] = 'BTC'\n"
     ]
    },
    {
     "data": {
      "text/html": [
       "<div>\n",
       "<style scoped>\n",
       "    .dataframe tbody tr th:only-of-type {\n",
       "        vertical-align: middle;\n",
       "    }\n",
       "\n",
       "    .dataframe tbody tr th {\n",
       "        vertical-align: top;\n",
       "    }\n",
       "\n",
       "    .dataframe thead th {\n",
       "        text-align: right;\n",
       "    }\n",
       "</style>\n",
       "<table border=\"1\" class=\"dataframe\">\n",
       "  <thead>\n",
       "    <tr style=\"text-align: right;\">\n",
       "      <th></th>\n",
       "      <th>hashtags</th>\n",
       "      <th>text</th>\n",
       "    </tr>\n",
       "    <tr>\n",
       "      <th>date</th>\n",
       "      <th></th>\n",
       "      <th></th>\n",
       "    </tr>\n",
       "  </thead>\n",
       "  <tbody>\n",
       "    <tr>\n",
       "      <th>2021-02-10 23:59:04</th>\n",
       "      <td>BTC</td>\n",
       "      <td>Blue Ridge Bank shares halted by NYSE after #b...</td>\n",
       "    </tr>\n",
       "    <tr>\n",
       "      <th>2021-02-10 23:58:48</th>\n",
       "      <td>BTC</td>\n",
       "      <td>😎 Today, that's this #Thursday, we will do a \"...</td>\n",
       "    </tr>\n",
       "    <tr>\n",
       "      <th>2021-02-10 23:54:33</th>\n",
       "      <td>BTC</td>\n",
       "      <td>$BTC A big chance in a billion! Price: \\487264...</td>\n",
       "    </tr>\n",
       "    <tr>\n",
       "      <th>2021-02-10 23:54:06</th>\n",
       "      <td>BTC</td>\n",
       "      <td>This network is secured by 9 508 nodes as of t...</td>\n",
       "    </tr>\n",
       "    <tr>\n",
       "      <th>2021-02-10 23:53:30</th>\n",
       "      <td>BTC</td>\n",
       "      <td>💹 Trade #Crypto on #Binance \\n\\n📌 Enjoy #Cashb...</td>\n",
       "    </tr>\n",
       "  </tbody>\n",
       "</table>\n",
       "</div>"
      ],
      "text/plain": [
       "                    hashtags  \\\n",
       "date                           \n",
       "2021-02-10 23:59:04      BTC   \n",
       "2021-02-10 23:58:48      BTC   \n",
       "2021-02-10 23:54:33      BTC   \n",
       "2021-02-10 23:54:06      BTC   \n",
       "2021-02-10 23:53:30      BTC   \n",
       "\n",
       "                                                                  text  \n",
       "date                                                                    \n",
       "2021-02-10 23:59:04  Blue Ridge Bank shares halted by NYSE after #b...  \n",
       "2021-02-10 23:58:48  😎 Today, that's this #Thursday, we will do a \"...  \n",
       "2021-02-10 23:54:33  $BTC A big chance in a billion! Price: \\487264...  \n",
       "2021-02-10 23:54:06  This network is secured by 9 508 nodes as of t...  \n",
       "2021-02-10 23:53:30  💹 Trade #Crypto on #Binance \\n\\n📌 Enjoy #Cashb...  "
      ]
     },
     "execution_count": 11,
     "metadata": {},
     "output_type": "execute_result"
    }
   ],
   "source": [
    "#clean the tweets data by dropping null values and fetching tweets specific to bitcoin  \n",
    "tags = ['bitcoin','btc','crypto']  \n",
    "hashtags = '|'.join(tags)\n",
    "btc_tweet.dropna(inplace = True)\n",
    "btc_tweet_df = btc_tweet[btc_tweet['hashtags'].str.lower().str.contains(hashtags)]\n",
    "\n",
    "#replace the hashtags values with 'BTC'\n",
    "btc_tweet_df['hashtags'] = 'BTC'\n",
    "btc_tweet_df = btc_tweet_df[['hashtags', 'text']]\n",
    "btc_tweet_df.head()"
   ]
  },
  {
   "cell_type": "code",
   "execution_count": 82,
   "id": "8a968a96-fa4d-4904-adfc-ce64e184082d",
   "metadata": {},
   "outputs": [
    {
     "data": {
      "text/html": [
       "<div>\n",
       "<style scoped>\n",
       "    .dataframe tbody tr th:only-of-type {\n",
       "        vertical-align: middle;\n",
       "    }\n",
       "\n",
       "    .dataframe tbody tr th {\n",
       "        vertical-align: top;\n",
       "    }\n",
       "\n",
       "    .dataframe thead th {\n",
       "        text-align: right;\n",
       "    }\n",
       "</style>\n",
       "<table border=\"1\" class=\"dataframe\">\n",
       "  <thead>\n",
       "    <tr style=\"text-align: right;\">\n",
       "      <th></th>\n",
       "      <th>date</th>\n",
       "      <th>hashtags</th>\n",
       "      <th>text</th>\n",
       "    </tr>\n",
       "  </thead>\n",
       "  <tbody>\n",
       "    <tr>\n",
       "      <th>0</th>\n",
       "      <td>01/01/2021 00:58:00</td>\n",
       "      <td>DOGE</td>\n",
       "      <td>@PPathole Dojo isn’t needed, but will make sel...</td>\n",
       "    </tr>\n",
       "    <tr>\n",
       "      <th>1</th>\n",
       "      <td>02/01/2021 03:20:00</td>\n",
       "      <td>DOGE</td>\n",
       "      <td>@comma_ai Tesla Full Self-Driving will work at...</td>\n",
       "    </tr>\n",
       "    <tr>\n",
       "      <th>2</th>\n",
       "      <td>02/01/2021 12:23:00</td>\n",
       "      <td>DOGE</td>\n",
       "      <td>@newscientist Um, we have giant fusion reactor...</td>\n",
       "    </tr>\n",
       "    <tr>\n",
       "      <th>3</th>\n",
       "      <td>02/01/2021 14:51:00</td>\n",
       "      <td>DOGE</td>\n",
       "      <td>So proud of the Tesla team for achieving this ...</td>\n",
       "    </tr>\n",
       "    <tr>\n",
       "      <th>4</th>\n",
       "      <td>02/01/2021 14:59:00</td>\n",
       "      <td>DOGE</td>\n",
       "      <td>@flcnhvy Tesla is responsible for 2/3 of all t...</td>\n",
       "    </tr>\n",
       "  </tbody>\n",
       "</table>\n",
       "</div>"
      ],
      "text/plain": [
       "                  date hashtags  \\\n",
       "0  01/01/2021 00:58:00     DOGE   \n",
       "1  02/01/2021 03:20:00     DOGE   \n",
       "2  02/01/2021 12:23:00     DOGE   \n",
       "3  02/01/2021 14:51:00     DOGE   \n",
       "4  02/01/2021 14:59:00     DOGE   \n",
       "\n",
       "                                                text  \n",
       "0  @PPathole Dojo isn’t needed, but will make sel...  \n",
       "1  @comma_ai Tesla Full Self-Driving will work at...  \n",
       "2  @newscientist Um, we have giant fusion reactor...  \n",
       "3  So proud of the Tesla team for achieving this ...  \n",
       "4  @flcnhvy Tesla is responsible for 2/3 of all t...  "
      ]
     },
     "execution_count": 82,
     "metadata": {},
     "output_type": "execute_result"
    }
   ],
   "source": [
    "import datetime\n",
    "\n",
    "# Read data from Emusk_2021_tweets.csv\n",
    "elon_tweets = pd.read_csv('Resources/Emusk_2021_tweets.csv',\n",
    "                          infer_datetime_format=True,\n",
    "                          parse_dates=True,\n",
    "                         usecols = ['Datetime','Text'])\n",
    "elon_tweets['hashtags'] = 'DOGE'\n",
    "elon_tweets.columns = ['date', 'text', 'hashtags']\n",
    "\n",
    "#convert date column into format of yyyy-mm-dd hh:mm:ss\n",
    "elon_tweets['date'] = elon_tweets['date']+':00'\n",
    "\n",
    "#rename columns and display sample\n",
    "elon_tweets = elon_tweets[['date', 'hashtags', 'text']]#.set_index('date')\n",
    "elon_tweets.head()"
   ]
  },
  {
   "cell_type": "code",
   "execution_count": 83,
   "id": "530515d4-faab-492f-9ae8-c7c1c6be2e3b",
   "metadata": {},
   "outputs": [
    {
     "data": {
      "text/html": [
       "<div>\n",
       "<style scoped>\n",
       "    .dataframe tbody tr th:only-of-type {\n",
       "        vertical-align: middle;\n",
       "    }\n",
       "\n",
       "    .dataframe tbody tr th {\n",
       "        vertical-align: top;\n",
       "    }\n",
       "\n",
       "    .dataframe thead th {\n",
       "        text-align: right;\n",
       "    }\n",
       "</style>\n",
       "<table border=\"1\" class=\"dataframe\">\n",
       "  <thead>\n",
       "    <tr style=\"text-align: right;\">\n",
       "      <th></th>\n",
       "      <th>date</th>\n",
       "      <th>hashtags</th>\n",
       "      <th>text</th>\n",
       "    </tr>\n",
       "  </thead>\n",
       "  <tbody>\n",
       "    <tr>\n",
       "      <th>0</th>\n",
       "      <td>2021-01-01 00:58:00</td>\n",
       "      <td>DOGE</td>\n",
       "      <td>@PPathole Dojo isn’t needed, but will make sel...</td>\n",
       "    </tr>\n",
       "    <tr>\n",
       "      <th>1</th>\n",
       "      <td>2021-01-02 03:20:00</td>\n",
       "      <td>DOGE</td>\n",
       "      <td>@comma_ai Tesla Full Self-Driving will work at...</td>\n",
       "    </tr>\n",
       "    <tr>\n",
       "      <th>2</th>\n",
       "      <td>2021-01-02 12:23:00</td>\n",
       "      <td>DOGE</td>\n",
       "      <td>@newscientist Um, we have giant fusion reactor...</td>\n",
       "    </tr>\n",
       "    <tr>\n",
       "      <th>3</th>\n",
       "      <td>2021-01-02 14:51:00</td>\n",
       "      <td>DOGE</td>\n",
       "      <td>So proud of the Tesla team for achieving this ...</td>\n",
       "    </tr>\n",
       "    <tr>\n",
       "      <th>4</th>\n",
       "      <td>2021-01-02 14:59:00</td>\n",
       "      <td>DOGE</td>\n",
       "      <td>@flcnhvy Tesla is responsible for 2/3 of all t...</td>\n",
       "    </tr>\n",
       "  </tbody>\n",
       "</table>\n",
       "</div>"
      ],
      "text/plain": [
       "                  date hashtags  \\\n",
       "0  2021-01-01 00:58:00     DOGE   \n",
       "1  2021-01-02 03:20:00     DOGE   \n",
       "2  2021-01-02 12:23:00     DOGE   \n",
       "3  2021-01-02 14:51:00     DOGE   \n",
       "4  2021-01-02 14:59:00     DOGE   \n",
       "\n",
       "                                                text  \n",
       "0  @PPathole Dojo isn’t needed, but will make sel...  \n",
       "1  @comma_ai Tesla Full Self-Driving will work at...  \n",
       "2  @newscientist Um, we have giant fusion reactor...  \n",
       "3  So proud of the Tesla team for achieving this ...  \n",
       "4  @flcnhvy Tesla is responsible for 2/3 of all t...  "
      ]
     },
     "execution_count": 83,
     "metadata": {},
     "output_type": "execute_result"
    }
   ],
   "source": [
    "#create function to resolve issue with datetime and series and convert the column values in required format\n",
    "def date_format(date_col)\n",
    "for i in np.arange(len(elon_tweets['date'])):\n",
    "    elon_tweets['date'][i] = datetime.datetime.strptime(elon_tweets['date'][i],\"%d/%m/%Y %H:%M:%S\")\n",
    "    elon_tweets['date'][i].strftime(\"%Y-%m-%d %H:%M:%S\")\n",
    "\n",
    "#set index & display df\n",
    "elon_tweets.set_index('date')\n",
    "elon_tweets.head()"
   ]
  },
  {
   "cell_type": "code",
   "execution_count": 84,
   "id": "49aa485a-27bb-45ce-af50-6aca1cfb3637",
   "metadata": {},
   "outputs": [],
   "source": [
    "#exporting stocks and btc_tweets dataframe records to csv files as the raw files are heavy \n",
    "tweet_df.to_csv(\"Resources/btc_tweets.csv\", header=True, index=True)\n",
    "stock_tweet_df.to_csv('Resources/stock_tweet_data.csv', header=True, index=True)"
   ]
  },
  {
   "cell_type": "code",
   "execution_count": null,
   "id": "d7906540-201f-440d-9eac-e4ca3551e4ba",
   "metadata": {
    "tags": []
   },
   "outputs": [],
   "source": [
    "stock_tweet_df = pd.read_csv(\n",
    "    Path(\"Resources/stock_tweet_data.csv\"),\n",
    "    index_col='date', \n",
    ")\n",
    "stock_tweet_df.sample()"
   ]
  },
  {
   "cell_type": "code",
   "execution_count": 92,
   "id": "18b56a2c-3087-4162-91b6-230106789fe1",
   "metadata": {},
   "outputs": [
    {
     "data": {
      "text/html": [
       "<div>\n",
       "<style scoped>\n",
       "    .dataframe tbody tr th:only-of-type {\n",
       "        vertical-align: middle;\n",
       "    }\n",
       "\n",
       "    .dataframe tbody tr th {\n",
       "        vertical-align: top;\n",
       "    }\n",
       "\n",
       "    .dataframe thead th {\n",
       "        text-align: right;\n",
       "    }\n",
       "</style>\n",
       "<table border=\"1\" class=\"dataframe\">\n",
       "  <thead>\n",
       "    <tr style=\"text-align: right;\">\n",
       "      <th></th>\n",
       "      <th>open_time</th>\n",
       "      <th>price</th>\n",
       "    </tr>\n",
       "  </thead>\n",
       "  <tbody>\n",
       "    <tr>\n",
       "      <th>0</th>\n",
       "      <td>01/01/2021 00:00</td>\n",
       "      <td>0.004672</td>\n",
       "    </tr>\n",
       "    <tr>\n",
       "      <th>1</th>\n",
       "      <td>01/01/2021 00:01</td>\n",
       "      <td>0.004673</td>\n",
       "    </tr>\n",
       "    <tr>\n",
       "      <th>2</th>\n",
       "      <td>01/01/2021 00:02</td>\n",
       "      <td>0.004686</td>\n",
       "    </tr>\n",
       "    <tr>\n",
       "      <th>3</th>\n",
       "      <td>01/01/2021 00:03</td>\n",
       "      <td>0.004671</td>\n",
       "    </tr>\n",
       "    <tr>\n",
       "      <th>4</th>\n",
       "      <td>01/01/2021 00:04</td>\n",
       "      <td>0.004676</td>\n",
       "    </tr>\n",
       "  </tbody>\n",
       "</table>\n",
       "</div>"
      ],
      "text/plain": [
       "          open_time     price\n",
       "0  01/01/2021 00:00  0.004672\n",
       "1  01/01/2021 00:01  0.004673\n",
       "2  01/01/2021 00:02  0.004686\n",
       "3  01/01/2021 00:03  0.004671\n",
       "4  01/01/2021 00:04  0.004676"
      ]
     },
     "execution_count": 92,
     "metadata": {},
     "output_type": "execute_result"
    }
   ],
   "source": [
    "# Import doge prices csv\n",
    "doge_prices = pd.read_csv('Resources/dogecoin_prices_2021.csv', \n",
    "    infer_datetime_format=True, \n",
    "    parse_dates=True)\n",
    "\n",
    "# display dataframe\n",
    "doge_prices.head()"
   ]
  },
  {
   "cell_type": "code",
   "execution_count": 94,
   "id": "7a0c9c13-c30c-4b98-af02-738e8444d59a",
   "metadata": {},
   "outputs": [
    {
     "data": {
      "text/html": [
       "<div>\n",
       "<style scoped>\n",
       "    .dataframe tbody tr th:only-of-type {\n",
       "        vertical-align: middle;\n",
       "    }\n",
       "\n",
       "    .dataframe tbody tr th {\n",
       "        vertical-align: top;\n",
       "    }\n",
       "\n",
       "    .dataframe thead th {\n",
       "        text-align: right;\n",
       "    }\n",
       "</style>\n",
       "<table border=\"1\" class=\"dataframe\">\n",
       "  <thead>\n",
       "    <tr style=\"text-align: right;\">\n",
       "      <th></th>\n",
       "      <th>date</th>\n",
       "      <th>price</th>\n",
       "    </tr>\n",
       "  </thead>\n",
       "  <tbody>\n",
       "    <tr>\n",
       "      <th>1439</th>\n",
       "      <td>01/01/2021 23:59</td>\n",
       "      <td>0.005665</td>\n",
       "    </tr>\n",
       "    <tr>\n",
       "      <th>2879</th>\n",
       "      <td>02/01/2021 23:59</td>\n",
       "      <td>0.010580</td>\n",
       "    </tr>\n",
       "    <tr>\n",
       "      <th>4319</th>\n",
       "      <td>03/01/2021 23:59</td>\n",
       "      <td>0.009810</td>\n",
       "    </tr>\n",
       "    <tr>\n",
       "      <th>5759</th>\n",
       "      <td>04/01/2021 23:59</td>\n",
       "      <td>0.009771</td>\n",
       "    </tr>\n",
       "    <tr>\n",
       "      <th>7199</th>\n",
       "      <td>05/01/2021 23:59</td>\n",
       "      <td>0.009994</td>\n",
       "    </tr>\n",
       "  </tbody>\n",
       "</table>\n",
       "</div>"
      ],
      "text/plain": [
       "                  date     price\n",
       "1439  01/01/2021 23:59  0.005665\n",
       "2879  02/01/2021 23:59  0.010580\n",
       "4319  03/01/2021 23:59  0.009810\n",
       "5759  04/01/2021 23:59  0.009771\n",
       "7199  05/01/2021 23:59  0.009994"
      ]
     },
     "execution_count": 94,
     "metadata": {},
     "output_type": "execute_result"
    }
   ],
   "source": [
    "#fetching closing prices for Doge\n",
    "# doge_prices = doge_prices[doge_prices['open_time'].str.contains('23:59')]\n",
    "# doge_prices.columns = ['date', 'price']\n",
    "\n",
    "# display dataframe\n",
    "doge_prices.set_index('date')\n",
    "doge_prices.head()"
   ]
  },
  {
   "cell_type": "markdown",
   "id": "4bec1f7a-536c-42f7-b601-dc2772c3e1f4",
   "metadata": {},
   "source": [
    "## Forget how to concat the df @shweta can you help? But i saved the origin csv so i read the saved csv."
   ]
  },
  {
   "cell_type": "code",
   "execution_count": null,
   "id": "f0747e95-531b-4d77-9b24-b9daaf8392fe",
   "metadata": {
    "tags": []
   },
   "outputs": [],
   "source": [
    "sentiment_analysis_df = pd.read_csv(\n",
    "    Path(\"Resources/sentiment_analysis_df.csv\"))\n",
    "sentiment_analysis_df.sample()"
   ]
  },
  {
   "cell_type": "markdown",
   "id": "86254fa3-b9a1-43aa-ae18-ccccfb4c51ec",
   "metadata": {},
   "source": [
    "#### Use sample data to test the code"
   ]
  },
  {
   "cell_type": "code",
   "execution_count": null,
   "id": "cf06f467-413a-42fb-80d8-1fb175343894",
   "metadata": {
    "tags": []
   },
   "outputs": [],
   "source": [
    "sample_sentiment_analysis_df=sentiment_analysis_df.sample(300)"
   ]
  },
  {
   "cell_type": "code",
   "execution_count": null,
   "id": "6fe064ee-447d-4bcf-a59f-6fd31f1dc74f",
   "metadata": {
    "tags": []
   },
   "outputs": [],
   "source": [
    "#get rid of links and hashtags\n",
    "sample_sentiment_analysis_df[\"text\"] = sample_sentiment_analysis_df[\"text\"].apply(lambda x : ' '.join([s for s in x.split(' ') if s.find('@') == -1 and s.find('www') == -1 and s.find('https') == -1]))\n",
    "\n",
    "#get rid of non-ascii characters\n",
    "sample_sentiment_analysis_df = sample_sentiment_analysis_df.replace(r'\\W+', ' ', regex=True)\n",
    "\n",
    "\n",
    "# get rid of tweet duplicates to not bias the sentiment analysis\n",
    "sample_sentiment_analysis_df = sample_sentiment_analysis_df.drop_duplicates(subset=['text'])\n",
    "sample_sentiment_analysis_df"
   ]
  },
  {
   "cell_type": "code",
   "execution_count": null,
   "id": "0f208634-8f03-415f-9f75-078e043485f8",
   "metadata": {
    "tags": []
   },
   "outputs": [],
   "source": [
    "# Tokenize the body text\n",
    "import nltk\n",
    "from nltk.tokenize import word_tokenize\n",
    "\n",
    "nltk.download('punkt')\n",
    "\n",
    "# Sample text\n",
    "sample_sentiment_analysis_df['tokenized_body'] = sample_sentiment_analysis_df['text'].apply(word_tokenize)\n",
    "\n",
    "# Tokenize\n",
    "sample_sentiment_analysis_df.sample()"
   ]
  },
  {
   "cell_type": "code",
   "execution_count": null,
   "id": "1e7747a7-6e47-4612-9426-ef85f2dc4470",
   "metadata": {
    "tags": []
   },
   "outputs": [],
   "source": [
    "from nltk.corpus import stopwords\n",
    "nltk.download('stopwords')\n",
    "nltk.download('punkt')\n",
    "\n",
    "def remove_stopwords(tokens):\n",
    "    return [word for word in tokens if word.lower() not in stopwords.words('english')]\n",
    "\n",
    "sample_sentiment_analysis_df['tokenized_body'] = sample_sentiment_analysis_df['tokenized_body'].apply(remove_stopwords)\n",
    "\n",
    "sample_sentiment_analysis_df.sample()"
   ]
  },
  {
   "cell_type": "markdown",
   "id": "3f1cedc6-8805-4364-9f35-b6e989007972",
   "metadata": {},
   "source": [
    "### In this code, we're using SpaCy for tokenization and part-of-speech tagging, and TextBlob for sentiment analysis. We define a custom analyze_sentiment function that takes a text input, processes it with SpaCy and TextBlob, and returns the sentiment label and polarity score."
   ]
  },
  {
   "cell_type": "code",
   "execution_count": null,
   "id": "b70c3264-f7a2-4486-b2b6-baa649f4a426",
   "metadata": {
    "tags": []
   },
   "outputs": [],
   "source": [
    "import spacy\n",
    "from textblob import TextBlob\n",
    "\n",
    "nlp = spacy.load('en_core_web_sm')\n",
    "\n",
    "def analyze_sentiment(text):\n",
    "    doc = nlp(text)\n",
    "    blob = TextBlob(text)\n",
    "    \n",
    "    polarity = blob.sentiment.polarity\n",
    "    \n",
    "    if polarity > 0:\n",
    "        sentiment = 'positive'\n",
    "    elif polarity < 0:\n",
    "        sentiment = 'negative'\n",
    "    else:\n",
    "        sentiment = 'neutral'\n",
    "    \n",
    "    return sentiment, polarity\n",
    "\n",
    "# Assuming df is your DataFrame with 'text' column\n",
    "sample_sentiment_analysis_df['sentiment'], sample_sentiment_analysis_df['polarity'] = zip(*sample_sentiment_analysis_df['text'].apply(analyze_sentiment))\n",
    "\n",
    "df_sentiment = sample_sentiment_analysis_df.sort_values('polarity').reset_index(drop=True)\n",
    "df_sentiment.sample()\n"
   ]
  },
  {
   "cell_type": "code",
   "execution_count": null,
   "id": "69b58abe-9e36-4fce-bcfe-94f0826b8a69",
   "metadata": {
    "tags": []
   },
   "outputs": [],
   "source": [
    "df_sentiment[\"sentiment\"].value_counts()"
   ]
  },
  {
   "cell_type": "code",
   "execution_count": null,
   "id": "56f3656b-6dd7-4ba1-8ebe-c9e58f55ab28",
   "metadata": {
    "tags": []
   },
   "outputs": [],
   "source": [
    "positive_count = df_sentiment[df_sentiment['polarity'] > 0]['polarity'].count()\n",
    "negative_count = df_sentiment[df_sentiment['polarity'] < 0]['polarity'].count()\n",
    "neutral_count = df_sentiment[df_sentiment['polarity'] == 0]['polarity'].count()\n",
    "\n",
    "print(\"Positive count:\", positive_count)\n",
    "print(\"Negative count:\", negative_count)\n",
    "print(\"Neutral count:\", neutral_count)"
   ]
  },
  {
   "cell_type": "code",
   "execution_count": null,
   "id": "d9182b04-0781-462f-a978-4bd0b674e6ff",
   "metadata": {},
   "outputs": [],
   "source": [
    "# Let us extract the most common words found in both positive and negative positive reviews\n",
    "df_neg = df_sentiment[df_sentiment['polarity'] < 0]\n",
    "df_pos = df_sentiment[df_sentiment['polarity'] > 0]"
   ]
  },
  {
   "cell_type": "code",
   "execution_count": null,
   "id": "e76daa03-b544-42ad-9d4e-1da4451817ed",
   "metadata": {},
   "outputs": [],
   "source": [
    "# Amount of positive and negative reviews we have been inferring from our data,\n",
    "# Let's a have general idea about the opinion of the public regarding tweets:\n",
    "print(\"Negative reviews\", len(df_neg))\n",
    "print(\"Positive reiews\", len(df_pos))"
   ]
  },
  {
   "cell_type": "code",
   "execution_count": null,
   "id": "fb127e19-ec48-495e-b6e8-2c037564ba65",
   "metadata": {},
   "outputs": [],
   "source": [
    "from collections import Counter\n",
    "\n",
    "# Extracting the most common words found in both positive and negative positive reviews:\n",
    "positive_words = pd.DataFrame([dict(Counter(' '.join(df_pos['text'].values.tolist()).split(' ')))]).T.sort_values(0, ascending=False)[0:100].index\n",
    "\n",
    "negative_words = pd.DataFrame([dict(Counter(' '.join(df_neg['text'].values.tolist()).split(' ')))]).T.sort_values(0, ascending=False)[0:100].index"
   ]
  },
  {
   "cell_type": "code",
   "execution_count": null,
   "id": "87b92deb-755a-4e23-8f6e-59023a81a327",
   "metadata": {},
   "outputs": [],
   "source": [
    "display(\"Most common words in POSITIVE tweets on ETH:\",positive_words)\n",
    "display(\"Most common words in NEGATIVE tweets on ETH:\",negative_words)"
   ]
  },
  {
   "cell_type": "markdown",
   "id": "6b9789bc-6e6b-4f73-a9d3-cb8f2bd48157",
   "metadata": {},
   "source": [
    "## Another way to clean the data\n",
    "#### Before analyzing the content of the tweets, we are first going to preprocess our data even more. There are several preprocessing strategies we are going to:\n",
    "\n",
    "#Lemmatize each word\n",
    "#Delete extra characters\n",
    "#Remove stop words"
   ]
  },
  {
   "cell_type": "code",
   "execution_count": null,
   "id": "d93dc9bb-b42a-49aa-aa65-4cecb944351d",
   "metadata": {},
   "outputs": [],
   "source": [
    "import spacy\n",
    "from nltk.tokenize import RegexpTokenizer\n",
    "import re\n",
    "from nltk.corpus import stopwords\n",
    "\n",
    "# Load the English language model\n",
    "nlp = spacy.load(\"en_core_web_sm\")\n",
    "\n",
    "def preprocess(sentence, stemming=False, lemmatizing=False):\n",
    "    global counter\n",
    "    counter += 1\n",
    "    if counter % 100 == 0:\n",
    "        pass\n",
    "        # print(counter)\n",
    "\n",
    "    sentence = str(sentence)\n",
    "    tokenizer = RegexpTokenizer(r'\\w+')\n",
    "\n",
    "    sentence = sentence.lower()\n",
    "    sentence = sentence.replace('{html}', \"\")\n",
    "    cleanr = re.compile('<.*?>')\n",
    "    cleantext = re.sub(cleanr, '', sentence)\n",
    "    rem_url = re.sub(r'http\\S+', '', cleantext)\n",
    "    rem_num = re.sub('[0-9]+', '', rem_url)\n",
    "    tokens = tokenizer.tokenize(rem_num)\n",
    "\n",
    "    filtered_words = [w for w in tokens if len(w) > 2 and w not in stopwords.words('english')]\n",
    "\n",
    "    if lemmatizing:\n",
    "        doc = nlp(\" \".join(filtered_words))\n",
    "        lemma_words = [token.lemma_ for token in doc if not token.is_punct and not token.is_space and not token.is_stop]\n",
    "        return \" \".join(lemma_words)\n",
    "\n",
    "    if stemming:\n",
    "        stemmer = PorterStemmer()\n",
    "        stem_words = [stemmer.stem(w) for w in filtered_words]\n",
    "        return \" \".join(stem_words)\n",
    "\n",
    "    return \" \".join(filtered_words)\n",
    "\n",
    "# Example usage\n",
    "df_sentiment['text'] = df_sentiment['text'].apply(lambda x: preprocess(x, stemming=False, lemmatizing=True))\n",
    "df_sentiment"
   ]
  },
  {
   "cell_type": "markdown",
   "id": "31028502-2ed3-4844-8ca9-b014e9782840",
   "metadata": {},
   "source": [
    "### Stock price data cleaning"
   ]
  },
  {
   "cell_type": "code",
   "execution_count": null,
   "id": "d15f12ec-f953-4af6-b14d-ecf34eaa1335",
   "metadata": {},
   "outputs": [],
   "source": [
    "#import tsla stock price and filter the date\n",
    "tsla_csv = Path(\"TSLA.csv\")\n",
    "tsla_df = pd.read_csv(tsla_csv, index_col=\"Date\", parse_dates=True)\n",
    "tsla_df.sort_index()\n",
    "tsla_df['Ticker'] = 'TSLA'\n",
    "tsla_df = tsla_df[['Ticker', 'Close']]\n",
    "tsla_df.index = pd.to_datetime(tsla_df.index)\n",
    "start_date = '2019-01-01 00:00:00'\n",
    "end_date = '2022-12-31 23:59:59'\n",
    "tsla_df = tsla_df[(tsla_df.index >= start_date) & (tsla_df.index <= end_date)]\n",
    "tsla_df.head()"
   ]
  },
  {
   "cell_type": "code",
   "execution_count": null,
   "id": "d19e7b4b-bcec-4ece-9f7f-0d1944d23814",
   "metadata": {
    "tags": []
   },
   "outputs": [],
   "source": [
    "#import amzn stock price and filter the date\n",
    "amzn_csv = Path(\"AMZN.csv\")\n",
    "amzn_df = pd.read_csv(amzn_csv, index_col=\"Date\", parse_dates=True)\n",
    "amzn_df.sort_index()\n",
    "amzn_df['Ticker'] = 'AMZN'\n",
    "amzn_df = amzn_df[['Ticker', 'Close']]\n",
    "amzn_df.index = pd.to_datetime(amzn_df.index)\n",
    "start_date = '2019-01-01 00:00:00'\n",
    "end_date = '2022-12-31 23:59:59'\n",
    "amzn_df = amzn_df[(amzn_df.index >= start_date) & (amzn_df.index <= end_date)]\n",
    "amzn_df.head()"
   ]
  },
  {
   "cell_type": "code",
   "execution_count": null,
   "id": "15423174-659b-4616-88ee-4a8bf06227d0",
   "metadata": {},
   "outputs": [],
   "source": [
    "#import aapl stock price and filter the date\n",
    "aapl_csv = Path(\"AAPL.csv\")\n",
    "aapl_df = pd.read_csv(aapl_csv, index_col=\"Date\", parse_dates=True)\n",
    "aapl_df.sort_index()\n",
    "aapl_df['Ticker'] = 'AAPL'\n",
    "aapl_df = aapl_df[['Ticker', 'Close']]\n",
    "aapl_df.index = pd.to_datetime(aapl_df.index)\n",
    "start_date = '2019-01-01 00:00:00'\n",
    "end_date = '2022-12-31 23:59:59'\n",
    "aapl_df = aapl_df[(aapl_df.index >= start_date) & (aapl_df.index <= end_date)]\n",
    "aapl_df.head()"
   ]
  }
 ],
 "metadata": {
  "kernelspec": {
   "display_name": "Python 3 (ipykernel)",
   "language": "python",
   "name": "python3"
  },
  "language_info": {
   "codemirror_mode": {
    "name": "ipython",
    "version": 3
   },
   "file_extension": ".py",
   "mimetype": "text/x-python",
   "name": "python",
   "nbconvert_exporter": "python",
   "pygments_lexer": "ipython3",
   "version": "3.10.9"
  }
 },
 "nbformat": 4,
 "nbformat_minor": 5
}
