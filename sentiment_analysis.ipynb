{
 "cells": [
  {
   "cell_type": "code",
   "execution_count": 1,
   "id": "c42ae64f-163d-4eff-af35-dadf71ccc456",
   "metadata": {
    "tags": []
   },
   "outputs": [],
   "source": [
    "# !pip install textblob\n",
    "\n",
    "# !pip install spacy\n",
    "# !python -m textblob.download_corpora\n",
    "# !python -m spacy download en_core_web_sm"
   ]
  },
  {
   "cell_type": "code",
   "execution_count": 2,
   "id": "a8922fe3-0316-49f7-8001-1b4c60d83591",
   "metadata": {
    "tags": []
   },
   "outputs": [],
   "source": [
    "import pandas as pd\n",
    "import numpy as np\n",
    "import datetime as dt\n",
    "from pathlib import Path"
   ]
  },
  {
   "cell_type": "code",
   "execution_count": 3,
   "id": "f0b5ee46-2c54-475b-b11a-fa1c659e74cf",
   "metadata": {
    "tags": []
   },
   "outputs": [
    {
     "data": {
      "text/html": [
       "<div>\n",
       "<style scoped>\n",
       "    .dataframe tbody tr th:only-of-type {\n",
       "        vertical-align: middle;\n",
       "    }\n",
       "\n",
       "    .dataframe tbody tr th {\n",
       "        vertical-align: top;\n",
       "    }\n",
       "\n",
       "    .dataframe thead th {\n",
       "        text-align: right;\n",
       "    }\n",
       "</style>\n",
       "<table border=\"1\" class=\"dataframe\">\n",
       "  <thead>\n",
       "    <tr style=\"text-align: right;\">\n",
       "      <th></th>\n",
       "      <th>ticker_symbol</th>\n",
       "    </tr>\n",
       "    <tr>\n",
       "      <th>tweet_id</th>\n",
       "      <th></th>\n",
       "    </tr>\n",
       "  </thead>\n",
       "  <tbody>\n",
       "    <tr>\n",
       "      <th>709761865379934210</th>\n",
       "      <td>AMZN</td>\n",
       "    </tr>\n",
       "  </tbody>\n",
       "</table>\n",
       "</div>"
      ],
      "text/plain": [
       "                   ticker_symbol\n",
       "tweet_id                        \n",
       "709761865379934210          AMZN"
      ]
     },
     "execution_count": 3,
     "metadata": {},
     "output_type": "execute_result"
    }
   ],
   "source": [
    "#Read data from Company_Tweet.csv\n",
    "Company_Tweet_df = pd.read_csv(Path(\"Resources/Company_Tweet.csv\"))\n",
    "Company_Tweet_df = Company_Tweet_df.set_index('tweet_id')\n",
    "Company_Tweet_df.sample()"
   ]
  },
  {
   "cell_type": "code",
   "execution_count": 4,
   "id": "3911c1a2-0215-45ef-acc9-e89b50b0dd60",
   "metadata": {
    "tags": []
   },
   "outputs": [
    {
     "data": {
      "text/html": [
       "<div>\n",
       "<style scoped>\n",
       "    .dataframe tbody tr th:only-of-type {\n",
       "        vertical-align: middle;\n",
       "    }\n",
       "\n",
       "    .dataframe tbody tr th {\n",
       "        vertical-align: top;\n",
       "    }\n",
       "\n",
       "    .dataframe thead th {\n",
       "        text-align: right;\n",
       "    }\n",
       "</style>\n",
       "<table border=\"1\" class=\"dataframe\">\n",
       "  <thead>\n",
       "    <tr style=\"text-align: right;\">\n",
       "      <th></th>\n",
       "      <th>writer</th>\n",
       "      <th>post_date</th>\n",
       "      <th>body</th>\n",
       "      <th>comment_num</th>\n",
       "      <th>retweet_num</th>\n",
       "      <th>like_num</th>\n",
       "    </tr>\n",
       "    <tr>\n",
       "      <th>tweet_id</th>\n",
       "      <th></th>\n",
       "      <th></th>\n",
       "      <th></th>\n",
       "      <th></th>\n",
       "      <th></th>\n",
       "      <th></th>\n",
       "    </tr>\n",
       "  </thead>\n",
       "  <tbody>\n",
       "    <tr>\n",
       "      <th>1143948385197658113</th>\n",
       "      <td>craigbuj</td>\n",
       "      <td>1561573523</td>\n",
       "      <td>\"A Video Superstar is Born\"  #TikTok #ByteDanc...</td>\n",
       "      <td>0</td>\n",
       "      <td>0</td>\n",
       "      <td>1</td>\n",
       "    </tr>\n",
       "  </tbody>\n",
       "</table>\n",
       "</div>"
      ],
      "text/plain": [
       "                       writer   post_date  \\\n",
       "tweet_id                                    \n",
       "1143948385197658113  craigbuj  1561573523   \n",
       "\n",
       "                                                                  body  \\\n",
       "tweet_id                                                                 \n",
       "1143948385197658113  \"A Video Superstar is Born\"  #TikTok #ByteDanc...   \n",
       "\n",
       "                     comment_num  retweet_num  like_num  \n",
       "tweet_id                                                 \n",
       "1143948385197658113            0            0         1  "
      ]
     },
     "execution_count": 4,
     "metadata": {},
     "output_type": "execute_result"
    }
   ],
   "source": [
    "#Read data from Tweet.csv\n",
    "tweet_df = pd.read_csv(Path(\"Resources/Tweet.csv\"))\n",
    "tweet_df = tweet_df.set_index('tweet_id')\n",
    "tweet_df.sample()"
   ]
  },
  {
   "cell_type": "code",
   "execution_count": 5,
   "id": "585b9c1e-98d1-4f72-b431-aedf9d21f800",
   "metadata": {
    "tags": []
   },
   "outputs": [],
   "source": [
    "#merge to df into one\n",
    "Company_tweet_result = tweet_df.merge(Company_Tweet_df, left_index=True, right_index=True)"
   ]
  },
  {
   "cell_type": "code",
   "execution_count": 6,
   "id": "45197158-2f17-458e-9adc-b2b6f2b28cc8",
   "metadata": {
    "tags": []
   },
   "outputs": [
    {
     "data": {
      "text/html": [
       "<div>\n",
       "<style scoped>\n",
       "    .dataframe tbody tr th:only-of-type {\n",
       "        vertical-align: middle;\n",
       "    }\n",
       "\n",
       "    .dataframe tbody tr th {\n",
       "        vertical-align: top;\n",
       "    }\n",
       "\n",
       "    .dataframe thead th {\n",
       "        text-align: right;\n",
       "    }\n",
       "</style>\n",
       "<table border=\"1\" class=\"dataframe\">\n",
       "  <thead>\n",
       "    <tr style=\"text-align: right;\">\n",
       "      <th></th>\n",
       "      <th>ticker_symbol</th>\n",
       "      <th>post_date</th>\n",
       "      <th>body</th>\n",
       "    </tr>\n",
       "    <tr>\n",
       "      <th>tweet_id</th>\n",
       "      <th></th>\n",
       "      <th></th>\n",
       "      <th></th>\n",
       "    </tr>\n",
       "  </thead>\n",
       "  <tbody>\n",
       "    <tr>\n",
       "      <th>967168575227166721</th>\n",
       "      <td>TSLA</td>\n",
       "      <td>1519425932</td>\n",
       "      <td>Yes, that was just the capital costs. I think ...</td>\n",
       "    </tr>\n",
       "  </tbody>\n",
       "</table>\n",
       "</div>"
      ],
      "text/plain": [
       "                   ticker_symbol   post_date  \\\n",
       "tweet_id                                       \n",
       "967168575227166721          TSLA  1519425932   \n",
       "\n",
       "                                                                 body  \n",
       "tweet_id                                                               \n",
       "967168575227166721  Yes, that was just the capital costs. I think ...  "
      ]
     },
     "execution_count": 6,
     "metadata": {},
     "output_type": "execute_result"
    }
   ],
   "source": [
    "#select relavent ticker and column.\n",
    "selected_df = Company_tweet_result[Company_tweet_result['ticker_symbol'].isin(['AAPL', 'TSLA', 'AMZN'])]\n",
    "selected_df = selected_df[['ticker_symbol', 'post_date','body']]\n",
    "selected_df.sample()"
   ]
  },
  {
   "cell_type": "code",
   "execution_count": 7,
   "id": "14ef7d68-4cd3-4205-8c63-423ee279253e",
   "metadata": {},
   "outputs": [],
   "source": [
    "# define Start date & end date to use for boolean indexing to filter the rows\n",
    "start_date = '2019-01-01 00:00:00'\n",
    "end_date = '2021-12-31 23:59:59'"
   ]
  },
  {
   "cell_type": "code",
   "execution_count": 8,
   "id": "ead75e1d-986d-417f-a1da-a5930755b416",
   "metadata": {
    "tags": []
   },
   "outputs": [
    {
     "data": {
      "text/html": [
       "<div>\n",
       "<style scoped>\n",
       "    .dataframe tbody tr th:only-of-type {\n",
       "        vertical-align: middle;\n",
       "    }\n",
       "\n",
       "    .dataframe tbody tr th {\n",
       "        vertical-align: top;\n",
       "    }\n",
       "\n",
       "    .dataframe thead th {\n",
       "        text-align: right;\n",
       "    }\n",
       "</style>\n",
       "<table border=\"1\" class=\"dataframe\">\n",
       "  <thead>\n",
       "    <tr style=\"text-align: right;\">\n",
       "      <th></th>\n",
       "      <th>hashtags</th>\n",
       "      <th>date</th>\n",
       "      <th>text</th>\n",
       "    </tr>\n",
       "    <tr>\n",
       "      <th>tweet_id</th>\n",
       "      <th></th>\n",
       "      <th></th>\n",
       "      <th></th>\n",
       "    </tr>\n",
       "  </thead>\n",
       "  <tbody>\n",
       "    <tr>\n",
       "      <th>1079890068867817473</th>\n",
       "      <td>TSLA</td>\n",
       "      <td>2019-01-01 00:00:30</td>\n",
       "      <td>!!  8 Hours Left !!The picture you see here is...</td>\n",
       "    </tr>\n",
       "    <tr>\n",
       "      <th>1079890718326431745</th>\n",
       "      <td>TSLA</td>\n",
       "      <td>2019-01-01 00:03:05</td>\n",
       "      <td>$3750 would be the minimum discount in any cas...</td>\n",
       "    </tr>\n",
       "    <tr>\n",
       "      <th>1079890782742503424</th>\n",
       "      <td>TSLA</td>\n",
       "      <td>2019-01-01 00:03:20</td>\n",
       "      <td>There are FUDking analysts like those from gol...</td>\n",
       "    </tr>\n",
       "    <tr>\n",
       "      <th>1079891097965322240</th>\n",
       "      <td>TSLA</td>\n",
       "      <td>2019-01-01 00:04:35</td>\n",
       "      <td>I really hope they report ‘unbelievable’ numbe...</td>\n",
       "    </tr>\n",
       "    <tr>\n",
       "      <th>1079891844807430144</th>\n",
       "      <td>TSLA</td>\n",
       "      <td>2019-01-01 00:07:33</td>\n",
       "      <td>#TESLA : $TSLA Dec-31 Update #StockMarket #Tec...</td>\n",
       "    </tr>\n",
       "  </tbody>\n",
       "</table>\n",
       "</div>"
      ],
      "text/plain": [
       "                    hashtags                date  \\\n",
       "tweet_id                                           \n",
       "1079890068867817473     TSLA 2019-01-01 00:00:30   \n",
       "1079890718326431745     TSLA 2019-01-01 00:03:05   \n",
       "1079890782742503424     TSLA 2019-01-01 00:03:20   \n",
       "1079891097965322240     TSLA 2019-01-01 00:04:35   \n",
       "1079891844807430144     TSLA 2019-01-01 00:07:33   \n",
       "\n",
       "                                                                  text  \n",
       "tweet_id                                                                \n",
       "1079890068867817473  !!  8 Hours Left !!The picture you see here is...  \n",
       "1079890718326431745  $3750 would be the minimum discount in any cas...  \n",
       "1079890782742503424  There are FUDking analysts like those from gol...  \n",
       "1079891097965322240  I really hope they report ‘unbelievable’ numbe...  \n",
       "1079891844807430144  #TESLA : $TSLA Dec-31 Update #StockMarket #Tec...  "
      ]
     },
     "execution_count": 8,
     "metadata": {},
     "output_type": "execute_result"
    }
   ],
   "source": [
    "#convert date into standard format\n",
    "selected_df['post_date'] = pd.to_datetime(selected_df['post_date'], unit='s')\n",
    "\n",
    "#filter the data based on post date ranging between start and end date\n",
    "#rename columns to date, hashtags, text to make the dataframe consistent for concatenation\n",
    "stock_tweet_df = selected_df[(selected_df['post_date'] >= start_date) & (selected_df['post_date'] <= end_date)]\n",
    "stock_tweet_df = stock_tweet_df[['ticker_symbol', 'post_date', 'body']]\n",
    "stock_tweet_df.columns = ['hashtags', 'date', 'text']\n",
    "stock_tweet_df = stock_tweet_df #.set_index('date')\n",
    "stock_tweet_df.dropna(inplace = True)\n",
    "stock_tweet_df.head()"
   ]
  },
  {
   "cell_type": "code",
   "execution_count": 81,
   "id": "03d5a057-c5c8-4c30-a27a-258cecaac607",
   "metadata": {
    "tags": []
   },
   "outputs": [
    {
     "data": {
      "text/html": [
       "<div>\n",
       "<style scoped>\n",
       "    .dataframe tbody tr th:only-of-type {\n",
       "        vertical-align: middle;\n",
       "    }\n",
       "\n",
       "    .dataframe tbody tr th {\n",
       "        vertical-align: top;\n",
       "    }\n",
       "\n",
       "    .dataframe thead th {\n",
       "        text-align: right;\n",
       "    }\n",
       "</style>\n",
       "<table border=\"1\" class=\"dataframe\">\n",
       "  <thead>\n",
       "    <tr style=\"text-align: right;\">\n",
       "      <th></th>\n",
       "      <th>date</th>\n",
       "      <th>hashtags</th>\n",
       "      <th>text</th>\n",
       "    </tr>\n",
       "  </thead>\n",
       "  <tbody>\n",
       "    <tr>\n",
       "      <th>1</th>\n",
       "      <td>11/15/2021 7:26:35</td>\n",
       "      <td>ETH</td>\n",
       "      <td>Adopted a Hypocat #053, “Crazy Rich Cat” 🤑💵💵💵🤩...</td>\n",
       "    </tr>\n",
       "    <tr>\n",
       "      <th>7</th>\n",
       "      <td>11/15/2021 7:25:36</td>\n",
       "      <td>ETH</td>\n",
       "      <td>I've just minted \"Waterfall graph \" collectibl...</td>\n",
       "    </tr>\n",
       "    <tr>\n",
       "      <th>9</th>\n",
       "      <td>11/15/2021 7:25:14</td>\n",
       "      <td>ETH</td>\n",
       "      <td>You can do Cloud Mining using this site https:...</td>\n",
       "    </tr>\n",
       "    <tr>\n",
       "      <th>13</th>\n",
       "      <td>11/15/2021 7:24:48</td>\n",
       "      <td>ETH</td>\n",
       "      <td>@michaeljburry @elonmusk @BernieSanders Just #...</td>\n",
       "    </tr>\n",
       "    <tr>\n",
       "      <th>15</th>\n",
       "      <td>11/15/2021 7:24:36</td>\n",
       "      <td>ETH</td>\n",
       "      <td>Top 10 coins by 3-months Twitter Volume \\n\\n$b...</td>\n",
       "    </tr>\n",
       "  </tbody>\n",
       "</table>\n",
       "</div>"
      ],
      "text/plain": [
       "                  date hashtags  \\\n",
       "1   11/15/2021 7:26:35      ETH   \n",
       "7   11/15/2021 7:25:36      ETH   \n",
       "9   11/15/2021 7:25:14      ETH   \n",
       "13  11/15/2021 7:24:48      ETH   \n",
       "15  11/15/2021 7:24:36      ETH   \n",
       "\n",
       "                                                 text  \n",
       "1   Adopted a Hypocat #053, “Crazy Rich Cat” 🤑💵💵💵🤩...  \n",
       "7   I've just minted \"Waterfall graph \" collectibl...  \n",
       "9   You can do Cloud Mining using this site https:...  \n",
       "13  @michaeljburry @elonmusk @BernieSanders Just #...  \n",
       "15  Top 10 coins by 3-months Twitter Volume \\n\\n$b...  "
      ]
     },
     "execution_count": 81,
     "metadata": {},
     "output_type": "execute_result"
    }
   ],
   "source": [
    "# Read data from Ethereum_tweets.csv \n",
    "ethereum_tweets = pd.read_csv(\n",
    "    Path(\"Resources/Ethereum_tweets.csv\",\n",
    "    #index_col='date', \n",
    "    parse_dates=True, \n",
    "    infer_datetime_format=True\n",
    ")).dropna()\n",
    "ethereum_tweets.drop_duplicates(subset=['text'], keep = 'first', inplace = True)\n",
    "ethereum_tweets['hashtags'] = 'ETH'\n",
    "ethereum_tweets = ethereum_tweets[[\"date\", \"hashtags\", \"text\"]]\n",
    "ethereum_tweets.head(5)"
   ]
  },
  {
   "cell_type": "code",
   "execution_count": 82,
   "id": "bc1559a0-2b0b-4d74-8e82-39728109a36d",
   "metadata": {},
   "outputs": [
    {
     "data": {
      "text/plain": [
       "date        3502\n",
       "hashtags    3502\n",
       "text        3502\n",
       "dtype: int64"
      ]
     },
     "execution_count": 82,
     "metadata": {},
     "output_type": "execute_result"
    }
   ],
   "source": [
    "ethereum_tweets.count()"
   ]
  },
  {
   "cell_type": "code",
   "execution_count": 10,
   "id": "16390b82-d194-40d1-b437-1ebbe663c46c",
   "metadata": {},
   "outputs": [
    {
     "name": "stderr",
     "output_type": "stream",
     "text": [
      "/var/folders/cn/35r59ch52r57x3jrltx7y1hh0000gn/T/ipykernel_98552/3481373515.py:1: DtypeWarning: Columns (9,10) have mixed types. Specify dtype option on import or set low_memory=False.\n",
      "  btc_tweet = pd.read_csv(Path(\"Resources/Bitcoin_tweets.csv\"),usecols = [\"date\", \"hashtags\", \"text\"],\n"
     ]
    },
    {
     "data": {
      "text/html": [
       "<div>\n",
       "<style scoped>\n",
       "    .dataframe tbody tr th:only-of-type {\n",
       "        vertical-align: middle;\n",
       "    }\n",
       "\n",
       "    .dataframe tbody tr th {\n",
       "        vertical-align: top;\n",
       "    }\n",
       "\n",
       "    .dataframe thead th {\n",
       "        text-align: right;\n",
       "    }\n",
       "</style>\n",
       "<table border=\"1\" class=\"dataframe\">\n",
       "  <thead>\n",
       "    <tr style=\"text-align: right;\">\n",
       "      <th></th>\n",
       "      <th>date</th>\n",
       "      <th>text</th>\n",
       "      <th>hashtags</th>\n",
       "    </tr>\n",
       "  </thead>\n",
       "  <tbody>\n",
       "    <tr>\n",
       "      <th>0</th>\n",
       "      <td>2021-02-10 23:59:04</td>\n",
       "      <td>Blue Ridge Bank shares halted by NYSE after #b...</td>\n",
       "      <td>['bitcoin']</td>\n",
       "    </tr>\n",
       "    <tr>\n",
       "      <th>1</th>\n",
       "      <td>2021-02-10 23:58:48</td>\n",
       "      <td>😎 Today, that's this #Thursday, we will do a \"...</td>\n",
       "      <td>['Thursday', 'Btc', 'wallet', 'security']</td>\n",
       "    </tr>\n",
       "    <tr>\n",
       "      <th>2</th>\n",
       "      <td>2021-02-10 23:54:48</td>\n",
       "      <td>Guys evening, I have read this article about B...</td>\n",
       "      <td>NaN</td>\n",
       "    </tr>\n",
       "    <tr>\n",
       "      <th>3</th>\n",
       "      <td>2021-02-10 23:54:33</td>\n",
       "      <td>$BTC A big chance in a billion! Price: \\487264...</td>\n",
       "      <td>['Bitcoin', 'FX', 'BTC', 'crypto']</td>\n",
       "    </tr>\n",
       "    <tr>\n",
       "      <th>4</th>\n",
       "      <td>2021-02-10 23:54:06</td>\n",
       "      <td>This network is secured by 9 508 nodes as of t...</td>\n",
       "      <td>['BTC']</td>\n",
       "    </tr>\n",
       "  </tbody>\n",
       "</table>\n",
       "</div>"
      ],
      "text/plain": [
       "                  date                                               text  \\\n",
       "0  2021-02-10 23:59:04  Blue Ridge Bank shares halted by NYSE after #b...   \n",
       "1  2021-02-10 23:58:48  😎 Today, that's this #Thursday, we will do a \"...   \n",
       "2  2021-02-10 23:54:48  Guys evening, I have read this article about B...   \n",
       "3  2021-02-10 23:54:33  $BTC A big chance in a billion! Price: \\487264...   \n",
       "4  2021-02-10 23:54:06  This network is secured by 9 508 nodes as of t...   \n",
       "\n",
       "                                    hashtags  \n",
       "0                                ['bitcoin']  \n",
       "1  ['Thursday', 'Btc', 'wallet', 'security']  \n",
       "2                                        NaN  \n",
       "3         ['Bitcoin', 'FX', 'BTC', 'crypto']  \n",
       "4                                    ['BTC']  "
      ]
     },
     "execution_count": 10,
     "metadata": {},
     "output_type": "execute_result"
    }
   ],
   "source": [
    "btc_tweet = pd.read_csv(Path(\"Resources/Bitcoin_tweets.csv\"),usecols = [\"date\", \"hashtags\", \"text\"], \n",
    "                           #index_col=[\"date\"],\n",
    "                            parse_dates=[\"date\"])\n",
    "btc_tweet = btc_tweet[(btc_tweet[\"date\"] <= end_date) |(btc_tweet[\"date\"] >= start_date)]\n",
    "btc_tweet.head(5)"
   ]
  },
  {
   "cell_type": "code",
   "execution_count": 11,
   "id": "fec2f798-4981-4d39-86c2-26f3fe8cb55e",
   "metadata": {},
   "outputs": [
    {
     "name": "stderr",
     "output_type": "stream",
     "text": [
      "/var/folders/cn/35r59ch52r57x3jrltx7y1hh0000gn/T/ipykernel_98552/3330187670.py:8: SettingWithCopyWarning: \n",
      "A value is trying to be set on a copy of a slice from a DataFrame.\n",
      "Try using .loc[row_indexer,col_indexer] = value instead\n",
      "\n",
      "See the caveats in the documentation: https://pandas.pydata.org/pandas-docs/stable/user_guide/indexing.html#returning-a-view-versus-a-copy\n",
      "  btc_tweet_df['hashtags'] = 'BTC'\n"
     ]
    },
    {
     "data": {
      "text/html": [
       "<div>\n",
       "<style scoped>\n",
       "    .dataframe tbody tr th:only-of-type {\n",
       "        vertical-align: middle;\n",
       "    }\n",
       "\n",
       "    .dataframe tbody tr th {\n",
       "        vertical-align: top;\n",
       "    }\n",
       "\n",
       "    .dataframe thead th {\n",
       "        text-align: right;\n",
       "    }\n",
       "</style>\n",
       "<table border=\"1\" class=\"dataframe\">\n",
       "  <thead>\n",
       "    <tr style=\"text-align: right;\">\n",
       "      <th></th>\n",
       "      <th>date</th>\n",
       "      <th>hashtags</th>\n",
       "      <th>text</th>\n",
       "    </tr>\n",
       "  </thead>\n",
       "  <tbody>\n",
       "    <tr>\n",
       "      <th>0</th>\n",
       "      <td>2021-02-10 23:59:04</td>\n",
       "      <td>BTC</td>\n",
       "      <td>Blue Ridge Bank shares halted by NYSE after #b...</td>\n",
       "    </tr>\n",
       "    <tr>\n",
       "      <th>1</th>\n",
       "      <td>2021-02-10 23:58:48</td>\n",
       "      <td>BTC</td>\n",
       "      <td>😎 Today, that's this #Thursday, we will do a \"...</td>\n",
       "    </tr>\n",
       "    <tr>\n",
       "      <th>3</th>\n",
       "      <td>2021-02-10 23:54:33</td>\n",
       "      <td>BTC</td>\n",
       "      <td>$BTC A big chance in a billion! Price: \\487264...</td>\n",
       "    </tr>\n",
       "    <tr>\n",
       "      <th>4</th>\n",
       "      <td>2021-02-10 23:54:06</td>\n",
       "      <td>BTC</td>\n",
       "      <td>This network is secured by 9 508 nodes as of t...</td>\n",
       "    </tr>\n",
       "    <tr>\n",
       "      <th>5</th>\n",
       "      <td>2021-02-10 23:53:30</td>\n",
       "      <td>BTC</td>\n",
       "      <td>💹 Trade #Crypto on #Binance \\n\\n📌 Enjoy #Cashb...</td>\n",
       "    </tr>\n",
       "  </tbody>\n",
       "</table>\n",
       "</div>"
      ],
      "text/plain": [
       "                  date hashtags  \\\n",
       "0  2021-02-10 23:59:04      BTC   \n",
       "1  2021-02-10 23:58:48      BTC   \n",
       "3  2021-02-10 23:54:33      BTC   \n",
       "4  2021-02-10 23:54:06      BTC   \n",
       "5  2021-02-10 23:53:30      BTC   \n",
       "\n",
       "                                                text  \n",
       "0  Blue Ridge Bank shares halted by NYSE after #b...  \n",
       "1  😎 Today, that's this #Thursday, we will do a \"...  \n",
       "3  $BTC A big chance in a billion! Price: \\487264...  \n",
       "4  This network is secured by 9 508 nodes as of t...  \n",
       "5  💹 Trade #Crypto on #Binance \\n\\n📌 Enjoy #Cashb...  "
      ]
     },
     "execution_count": 11,
     "metadata": {},
     "output_type": "execute_result"
    }
   ],
   "source": [
    "#clean the tweets data by dropping null values and fetching tweets specific to bitcoin  \n",
    "tags = ['bitcoin','btc','crypto']  \n",
    "hashtags = '|'.join(tags)\n",
    "btc_tweet.dropna(inplace = True)\n",
    "btc_tweet_df = btc_tweet[btc_tweet['hashtags'].str.lower().str.contains(hashtags)]\n",
    "\n",
    "#replace the hashtags values with 'BTC'\n",
    "btc_tweet_df['hashtags'] = 'BTC'\n",
    "btc_tweet_df = btc_tweet_df[['date', 'hashtags', 'text']]\n",
    "btc_tweet_df.head()"
   ]
  },
  {
   "cell_type": "code",
   "execution_count": 22,
   "id": "8a968a96-fa4d-4904-adfc-ce64e184082d",
   "metadata": {},
   "outputs": [
    {
     "data": {
      "text/html": [
       "<div>\n",
       "<style scoped>\n",
       "    .dataframe tbody tr th:only-of-type {\n",
       "        vertical-align: middle;\n",
       "    }\n",
       "\n",
       "    .dataframe tbody tr th {\n",
       "        vertical-align: top;\n",
       "    }\n",
       "\n",
       "    .dataframe thead th {\n",
       "        text-align: right;\n",
       "    }\n",
       "</style>\n",
       "<table border=\"1\" class=\"dataframe\">\n",
       "  <thead>\n",
       "    <tr style=\"text-align: right;\">\n",
       "      <th></th>\n",
       "      <th>date</th>\n",
       "      <th>hashtags</th>\n",
       "      <th>text</th>\n",
       "    </tr>\n",
       "  </thead>\n",
       "  <tbody>\n",
       "    <tr>\n",
       "      <th>0</th>\n",
       "      <td>01/01/2021 00:58:00</td>\n",
       "      <td>DOGE</td>\n",
       "      <td>@PPathole Dojo isn’t needed, but will make sel...</td>\n",
       "    </tr>\n",
       "    <tr>\n",
       "      <th>1</th>\n",
       "      <td>02/01/2021 03:20:00</td>\n",
       "      <td>DOGE</td>\n",
       "      <td>@comma_ai Tesla Full Self-Driving will work at...</td>\n",
       "    </tr>\n",
       "    <tr>\n",
       "      <th>2</th>\n",
       "      <td>02/01/2021 12:23:00</td>\n",
       "      <td>DOGE</td>\n",
       "      <td>@newscientist Um, we have giant fusion reactor...</td>\n",
       "    </tr>\n",
       "    <tr>\n",
       "      <th>3</th>\n",
       "      <td>02/01/2021 14:51:00</td>\n",
       "      <td>DOGE</td>\n",
       "      <td>So proud of the Tesla team for achieving this ...</td>\n",
       "    </tr>\n",
       "    <tr>\n",
       "      <th>4</th>\n",
       "      <td>02/01/2021 14:59:00</td>\n",
       "      <td>DOGE</td>\n",
       "      <td>@flcnhvy Tesla is responsible for 2/3 of all t...</td>\n",
       "    </tr>\n",
       "  </tbody>\n",
       "</table>\n",
       "</div>"
      ],
      "text/plain": [
       "                  date hashtags  \\\n",
       "0  01/01/2021 00:58:00     DOGE   \n",
       "1  02/01/2021 03:20:00     DOGE   \n",
       "2  02/01/2021 12:23:00     DOGE   \n",
       "3  02/01/2021 14:51:00     DOGE   \n",
       "4  02/01/2021 14:59:00     DOGE   \n",
       "\n",
       "                                                text  \n",
       "0  @PPathole Dojo isn’t needed, but will make sel...  \n",
       "1  @comma_ai Tesla Full Self-Driving will work at...  \n",
       "2  @newscientist Um, we have giant fusion reactor...  \n",
       "3  So proud of the Tesla team for achieving this ...  \n",
       "4  @flcnhvy Tesla is responsible for 2/3 of all t...  "
      ]
     },
     "execution_count": 22,
     "metadata": {},
     "output_type": "execute_result"
    }
   ],
   "source": [
    "import datetime\n",
    "\n",
    "# Read data from Emusk_2021_tweets.csv\n",
    "elon_tweets = pd.read_csv('Resources/Emusk_2021_tweets.csv',\n",
    "                          infer_datetime_format=True,\n",
    "                          parse_dates=True,\n",
    "                         usecols = ['Datetime','Text'])\n",
    "elon_tweets['hashtags'] = 'DOGE'\n",
    "elon_tweets.columns = ['date', 'text', 'hashtags']\n",
    "\n",
    "#convert date column into format of yyyy-mm-dd hh:mm:ss\n",
    "elon_tweets['date'] = elon_tweets['date']+':00'\n",
    "\n",
    "#rename columns and display sample\n",
    "elon_tweets = elon_tweets[['date', 'hashtags', 'text']]#.set_index('date')\n",
    "elon_tweets.head()"
   ]
  },
  {
   "cell_type": "code",
   "execution_count": 24,
   "id": "530515d4-faab-492f-9ae8-c7c1c6be2e3b",
   "metadata": {},
   "outputs": [
    {
     "data": {
      "text/html": [
       "<div>\n",
       "<style scoped>\n",
       "    .dataframe tbody tr th:only-of-type {\n",
       "        vertical-align: middle;\n",
       "    }\n",
       "\n",
       "    .dataframe tbody tr th {\n",
       "        vertical-align: top;\n",
       "    }\n",
       "\n",
       "    .dataframe thead th {\n",
       "        text-align: right;\n",
       "    }\n",
       "</style>\n",
       "<table border=\"1\" class=\"dataframe\">\n",
       "  <thead>\n",
       "    <tr style=\"text-align: right;\">\n",
       "      <th></th>\n",
       "      <th>date</th>\n",
       "      <th>hashtags</th>\n",
       "      <th>text</th>\n",
       "    </tr>\n",
       "  </thead>\n",
       "  <tbody>\n",
       "    <tr>\n",
       "      <th>0</th>\n",
       "      <td>2021-01-01 00:58:00</td>\n",
       "      <td>DOGE</td>\n",
       "      <td>@PPathole Dojo isn’t needed, but will make sel...</td>\n",
       "    </tr>\n",
       "    <tr>\n",
       "      <th>1</th>\n",
       "      <td>2021-01-02 03:20:00</td>\n",
       "      <td>DOGE</td>\n",
       "      <td>@comma_ai Tesla Full Self-Driving will work at...</td>\n",
       "    </tr>\n",
       "    <tr>\n",
       "      <th>2</th>\n",
       "      <td>2021-01-02 12:23:00</td>\n",
       "      <td>DOGE</td>\n",
       "      <td>@newscientist Um, we have giant fusion reactor...</td>\n",
       "    </tr>\n",
       "    <tr>\n",
       "      <th>3</th>\n",
       "      <td>2021-01-02 14:51:00</td>\n",
       "      <td>DOGE</td>\n",
       "      <td>So proud of the Tesla team for achieving this ...</td>\n",
       "    </tr>\n",
       "    <tr>\n",
       "      <th>4</th>\n",
       "      <td>2021-01-02 14:59:00</td>\n",
       "      <td>DOGE</td>\n",
       "      <td>@flcnhvy Tesla is responsible for 2/3 of all t...</td>\n",
       "    </tr>\n",
       "  </tbody>\n",
       "</table>\n",
       "</div>"
      ],
      "text/plain": [
       "                  date hashtags  \\\n",
       "0  2021-01-01 00:58:00     DOGE   \n",
       "1  2021-01-02 03:20:00     DOGE   \n",
       "2  2021-01-02 12:23:00     DOGE   \n",
       "3  2021-01-02 14:51:00     DOGE   \n",
       "4  2021-01-02 14:59:00     DOGE   \n",
       "\n",
       "                                                text  \n",
       "0  @PPathole Dojo isn’t needed, but will make sel...  \n",
       "1  @comma_ai Tesla Full Self-Driving will work at...  \n",
       "2  @newscientist Um, we have giant fusion reactor...  \n",
       "3  So proud of the Tesla team for achieving this ...  \n",
       "4  @flcnhvy Tesla is responsible for 2/3 of all t...  "
      ]
     },
     "execution_count": 24,
     "metadata": {},
     "output_type": "execute_result"
    }
   ],
   "source": [
    "#loop for DOGE to resolve issue with datetime and series and convert the column values in required format\n",
    "#loop to convert the date format to YYYY-MM-DD hh:mm:ss for DOGE\n",
    "for i in np.arange(len(elon_tweets['date'])):\n",
    "    elon_tweets['date'][i] = datetime.datetime.strptime(elon_tweets['date'][i],\"%d/%m/%Y %H:%M:%S\")\n",
    "    elon_tweets['date'][i].strftime(\"%Y-%m-%d  %H:%M:%S\")\n",
    "\n",
    "#set index & display df\n",
    "elon_tweets.head()"
   ]
  },
  {
   "cell_type": "code",
   "execution_count": 15,
   "id": "2034acf0-8f99-40d5-b1dc-af8879f4d309",
   "metadata": {},
   "outputs": [
    {
     "data": {
      "text/html": [
       "<div>\n",
       "<style scoped>\n",
       "    .dataframe tbody tr th:only-of-type {\n",
       "        vertical-align: middle;\n",
       "    }\n",
       "\n",
       "    .dataframe tbody tr th {\n",
       "        vertical-align: top;\n",
       "    }\n",
       "\n",
       "    .dataframe thead th {\n",
       "        text-align: right;\n",
       "    }\n",
       "</style>\n",
       "<table border=\"1\" class=\"dataframe\">\n",
       "  <thead>\n",
       "    <tr style=\"text-align: right;\">\n",
       "      <th></th>\n",
       "      <th>index</th>\n",
       "      <th>hashtags</th>\n",
       "      <th>date</th>\n",
       "      <th>text</th>\n",
       "    </tr>\n",
       "  </thead>\n",
       "  <tbody>\n",
       "    <tr>\n",
       "      <th>0</th>\n",
       "      <td>1201548004081258496</td>\n",
       "      <td>AAPL</td>\n",
       "      <td>2019-12-02 17:05:42</td>\n",
       "      <td>Apple worth more than US stock index’s energy ...</td>\n",
       "    </tr>\n",
       "    <tr>\n",
       "      <th>1</th>\n",
       "      <td>1130918244582395904</td>\n",
       "      <td>TSLA</td>\n",
       "      <td>2019-05-21 19:28:15</td>\n",
       "      <td>$TSLA A great thing about lowering the prices ...</td>\n",
       "    </tr>\n",
       "    <tr>\n",
       "      <th>2</th>\n",
       "      <td>1167102835022016513</td>\n",
       "      <td>TSLA</td>\n",
       "      <td>2019-08-29 15:52:54</td>\n",
       "      <td>$TSLA $220c from under $1 yesterday to $3.70.....</td>\n",
       "    </tr>\n",
       "    <tr>\n",
       "      <th>3</th>\n",
       "      <td>1130861696560586759</td>\n",
       "      <td>AAPL</td>\n",
       "      <td>2019-05-21 15:43:33</td>\n",
       "      <td>#Lynx cuts $AAPL PT $185 to $165.@LeverageShar...</td>\n",
       "    </tr>\n",
       "    <tr>\n",
       "      <th>4</th>\n",
       "      <td>1182675896148221952</td>\n",
       "      <td>AAPL</td>\n",
       "      <td>2019-10-11 15:14:41</td>\n",
       "      <td>tried to give those $Aapl bears a friendly hea...</td>\n",
       "    </tr>\n",
       "  </tbody>\n",
       "</table>\n",
       "</div>"
      ],
      "text/plain": [
       "                 index hashtags                 date  \\\n",
       "0  1201548004081258496     AAPL  2019-12-02 17:05:42   \n",
       "1  1130918244582395904     TSLA  2019-05-21 19:28:15   \n",
       "2  1167102835022016513     TSLA  2019-08-29 15:52:54   \n",
       "3  1130861696560586759     AAPL  2019-05-21 15:43:33   \n",
       "4  1182675896148221952     AAPL  2019-10-11 15:14:41   \n",
       "\n",
       "                                                text  \n",
       "0  Apple worth more than US stock index’s energy ...  \n",
       "1  $TSLA A great thing about lowering the prices ...  \n",
       "2  $TSLA $220c from under $1 yesterday to $3.70.....  \n",
       "3  #Lynx cuts $AAPL PT $185 to $165.@LeverageShar...  \n",
       "4  tried to give those $Aapl bears a friendly hea...  "
      ]
     },
     "execution_count": 15,
     "metadata": {},
     "output_type": "execute_result"
    }
   ],
   "source": [
    "#create a combined dataframe with 3000 samples from stock_data_df and btc_tweet_df as they contain HUGE no. of records compared to ethereum & Doge\n",
    "#get sample records of 3000 for stock data and btc\n",
    "stock_tweet_df_sample = stock_tweet_df.sample(3000)\n",
    "btc_tweet_df_sample = btc_tweet_df.sample(3000)\n",
    "\n",
    "#concat dataframes and reset index\n",
    "combined_df = pd.concat([stock_tweet_df_sample,btc_tweet_df_sample, ethereum_tweets,elon_tweets], axis = 0).reset_index()\n",
    "combined_df.head()"
   ]
  },
  {
   "cell_type": "code",
   "execution_count": 32,
   "id": "d40ca7fa-eb1e-4ae9-945f-324326d13483",
   "metadata": {},
   "outputs": [],
   "source": [
    "#drop the index turned into column and display data\n",
    "combined_df.drop('index', axis = 1,inplace = True)"
   ]
  },
  {
   "cell_type": "code",
   "execution_count": 30,
   "id": "5e7ea58f-11fa-4414-a519-4df00dcef39b",
   "metadata": {},
   "outputs": [],
   "source": [
    "#function to convert date format to YYYY-MM-DD hh:mm:ss\n",
    "def date_format(df_col):\n",
    "    for i in np.arange(len(df_col)):\n",
    "        \n",
    "        res = True\n",
    "        try:\n",
    "            res = bool(datetime.datetime.strptime(df_col[i], \"%Y-%m-%d %H:%M:%S\"))\n",
    "        except ValueError:\n",
    "            res = False    \n",
    "        if(not(res)):\n",
    "            df_col[i] = datetime.datetime.strptime(df_col[i],\"%m/%d/%Y %H:%M:%S\")\n",
    "            df_col[i].strftime(\"%Y-%m-%d %H:%M:%S\")\n",
    "    return df_col"
   ]
  },
  {
   "cell_type": "code",
   "execution_count": 34,
   "id": "5a9f9bfb-84c8-46e7-8756-de6a4b040ab8",
   "metadata": {},
   "outputs": [],
   "source": [
    "combined_df['date'] = pd.to_datetime(combined_df['date'])\n",
    "combined_df['date'] = combined_df['date'].dt.date\n",
    " #= date_format(combined_df['date'].astype(str))"
   ]
  },
  {
   "cell_type": "code",
   "execution_count": 35,
   "id": "cae497db-45cd-4caa-97fb-c7f5c5c32956",
   "metadata": {},
   "outputs": [
    {
     "data": {
      "text/html": [
       "<div>\n",
       "<style scoped>\n",
       "    .dataframe tbody tr th:only-of-type {\n",
       "        vertical-align: middle;\n",
       "    }\n",
       "\n",
       "    .dataframe tbody tr th {\n",
       "        vertical-align: top;\n",
       "    }\n",
       "\n",
       "    .dataframe thead th {\n",
       "        text-align: right;\n",
       "    }\n",
       "</style>\n",
       "<table border=\"1\" class=\"dataframe\">\n",
       "  <thead>\n",
       "    <tr style=\"text-align: right;\">\n",
       "      <th></th>\n",
       "      <th>hashtags</th>\n",
       "      <th>date</th>\n",
       "      <th>text</th>\n",
       "    </tr>\n",
       "  </thead>\n",
       "  <tbody>\n",
       "    <tr>\n",
       "      <th>0</th>\n",
       "      <td>AAPL</td>\n",
       "      <td>2019-12-02</td>\n",
       "      <td>Apple worth more than US stock index’s energy ...</td>\n",
       "    </tr>\n",
       "    <tr>\n",
       "      <th>1</th>\n",
       "      <td>TSLA</td>\n",
       "      <td>2019-05-21</td>\n",
       "      <td>$TSLA A great thing about lowering the prices ...</td>\n",
       "    </tr>\n",
       "    <tr>\n",
       "      <th>2</th>\n",
       "      <td>TSLA</td>\n",
       "      <td>2019-08-29</td>\n",
       "      <td>$TSLA $220c from under $1 yesterday to $3.70.....</td>\n",
       "    </tr>\n",
       "    <tr>\n",
       "      <th>3</th>\n",
       "      <td>AAPL</td>\n",
       "      <td>2019-05-21</td>\n",
       "      <td>#Lynx cuts $AAPL PT $185 to $165.@LeverageShar...</td>\n",
       "    </tr>\n",
       "    <tr>\n",
       "      <th>4</th>\n",
       "      <td>AAPL</td>\n",
       "      <td>2019-10-11</td>\n",
       "      <td>tried to give those $Aapl bears a friendly hea...</td>\n",
       "    </tr>\n",
       "  </tbody>\n",
       "</table>\n",
       "</div>"
      ],
      "text/plain": [
       "  hashtags        date                                               text\n",
       "0     AAPL  2019-12-02  Apple worth more than US stock index’s energy ...\n",
       "1     TSLA  2019-05-21  $TSLA A great thing about lowering the prices ...\n",
       "2     TSLA  2019-08-29  $TSLA $220c from under $1 yesterday to $3.70.....\n",
       "3     AAPL  2019-05-21  #Lynx cuts $AAPL PT $185 to $165.@LeverageShar...\n",
       "4     AAPL  2019-10-11  tried to give those $Aapl bears a friendly hea..."
      ]
     },
     "execution_count": 35,
     "metadata": {},
     "output_type": "execute_result"
    }
   ],
   "source": [
    "combined_df.head()"
   ]
  },
  {
   "cell_type": "code",
   "execution_count": 36,
   "id": "49aa485a-27bb-45ce-af50-6aca1cfb3637",
   "metadata": {},
   "outputs": [],
   "source": [
    "#exporting stocks and btc_tweets dataframe records to csv files as the raw files are heavy \n",
    "tweet_df.to_csv(\"Resources/btc_tweets.csv\", header=True, index=True)\n",
    "stock_tweet_df.to_csv('Resources/stock_tweet_data.csv', header=True, index=True)\n",
    "combined_df.to_csv('Resources/stock_tweet_data.csv', header=True, index=True)"
   ]
  },
  {
   "cell_type": "code",
   "execution_count": 20,
   "id": "d7906540-201f-440d-9eac-e4ca3551e4ba",
   "metadata": {
    "tags": []
   },
   "outputs": [
    {
     "data": {
      "text/html": [
       "<div>\n",
       "<style scoped>\n",
       "    .dataframe tbody tr th:only-of-type {\n",
       "        vertical-align: middle;\n",
       "    }\n",
       "\n",
       "    .dataframe tbody tr th {\n",
       "        vertical-align: top;\n",
       "    }\n",
       "\n",
       "    .dataframe thead th {\n",
       "        text-align: right;\n",
       "    }\n",
       "</style>\n",
       "<table border=\"1\" class=\"dataframe\">\n",
       "  <thead>\n",
       "    <tr style=\"text-align: right;\">\n",
       "      <th></th>\n",
       "      <th>tweet_id</th>\n",
       "      <th>hashtags</th>\n",
       "      <th>text</th>\n",
       "    </tr>\n",
       "    <tr>\n",
       "      <th>date</th>\n",
       "      <th></th>\n",
       "      <th></th>\n",
       "      <th></th>\n",
       "    </tr>\n",
       "  </thead>\n",
       "  <tbody>\n",
       "    <tr>\n",
       "      <th>2019-06-12 13:10:36</th>\n",
       "      <td>1138795739876773888</td>\n",
       "      <td>TSLA</td>\n",
       "      <td>Highlight: \"It's good news [Elon Musk] said th...</td>\n",
       "    </tr>\n",
       "  </tbody>\n",
       "</table>\n",
       "</div>"
      ],
      "text/plain": [
       "                                tweet_id hashtags  \\\n",
       "date                                                \n",
       "2019-06-12 13:10:36  1138795739876773888     TSLA   \n",
       "\n",
       "                                                                  text  \n",
       "date                                                                    \n",
       "2019-06-12 13:10:36  Highlight: \"It's good news [Elon Musk] said th...  "
      ]
     },
     "execution_count": 20,
     "metadata": {},
     "output_type": "execute_result"
    }
   ],
   "source": [
    "# stock_tweet_df = pd.read_csv(\n",
    "#     Path(\"Resources/stock_tweet_data.csv\"),\n",
    "#     index_col='date', \n",
    "# )\n",
    "# stock_tweet_df.sample()"
   ]
  },
  {
   "cell_type": "code",
   "execution_count": null,
   "id": "f0747e95-531b-4d77-9b24-b9daaf8392fe",
   "metadata": {
    "tags": []
   },
   "outputs": [],
   "source": [
    "sentiment_analysis_df = pd.read_csv(\n",
    "    Path(\"Resources/sentiment_analysis_df.csv\"))\n",
    "sentiment_analysis_df.sample()"
   ]
  },
  {
   "cell_type": "markdown",
   "id": "86254fa3-b9a1-43aa-ae18-ccccfb4c51ec",
   "metadata": {},
   "source": [
    "#### Data cleaning for sentiment analysis"
   ]
  },
  {
   "cell_type": "code",
   "execution_count": 63,
   "id": "cf06f467-413a-42fb-80d8-1fb175343894",
   "metadata": {
    "tags": []
   },
   "outputs": [],
   "source": [
    "df_sentiment=combined_df.copy()"
   ]
  },
  {
   "cell_type": "markdown",
   "id": "5da72d71-e03c-4f1e-a40d-7a2bd3dd7c99",
   "metadata": {},
   "source": [
    "### using SpaCy for tokenization and part-of-speech tagging, and TextBlob for sentiment analysis which returns the sentiment label and polarity score."
   ]
  },
  {
   "cell_type": "code",
   "execution_count": 64,
   "id": "d93dc9bb-b42a-49aa-aa65-4cecb944351d",
   "metadata": {},
   "outputs": [
    {
     "data": {
      "text/html": [
       "<div>\n",
       "<style scoped>\n",
       "    .dataframe tbody tr th:only-of-type {\n",
       "        vertical-align: middle;\n",
       "    }\n",
       "\n",
       "    .dataframe tbody tr th {\n",
       "        vertical-align: top;\n",
       "    }\n",
       "\n",
       "    .dataframe thead th {\n",
       "        text-align: right;\n",
       "    }\n",
       "</style>\n",
       "<table border=\"1\" class=\"dataframe\">\n",
       "  <thead>\n",
       "    <tr style=\"text-align: right;\">\n",
       "      <th></th>\n",
       "      <th>hashtags</th>\n",
       "      <th>date</th>\n",
       "      <th>text</th>\n",
       "      <th>tokenized_text</th>\n",
       "    </tr>\n",
       "  </thead>\n",
       "  <tbody>\n",
       "    <tr>\n",
       "      <th>0</th>\n",
       "      <td>AAPL</td>\n",
       "      <td>2019-12-02</td>\n",
       "      <td>Apple worth more than US stock index’s energy ...</td>\n",
       "      <td>apple worth stock index energy sector financia...</td>\n",
       "    </tr>\n",
       "    <tr>\n",
       "      <th>1</th>\n",
       "      <td>TSLA</td>\n",
       "      <td>2019-05-21</td>\n",
       "      <td>$TSLA A great thing about lowering the prices ...</td>\n",
       "      <td>tsla great thing lower price make available mi...</td>\n",
       "    </tr>\n",
       "    <tr>\n",
       "      <th>2</th>\n",
       "      <td>TSLA</td>\n",
       "      <td>2019-08-29</td>\n",
       "      <td>$TSLA $220c from under $1 yesterday to $3.70.....</td>\n",
       "      <td>tsla yesterday easy</td>\n",
       "    </tr>\n",
       "    <tr>\n",
       "      <th>3</th>\n",
       "      <td>AAPL</td>\n",
       "      <td>2019-05-21</td>\n",
       "      <td>#Lynx cuts $AAPL PT $185 to $165.@LeverageShar...</td>\n",
       "      <td>lynx cut aapl leverageshare aapl aap etp</td>\n",
       "    </tr>\n",
       "    <tr>\n",
       "      <th>4</th>\n",
       "      <td>AAPL</td>\n",
       "      <td>2019-10-11</td>\n",
       "      <td>tried to give those $Aapl bears a friendly hea...</td>\n",
       "      <td>try aapl bear friendly head</td>\n",
       "    </tr>\n",
       "  </tbody>\n",
       "</table>\n",
       "</div>"
      ],
      "text/plain": [
       "  hashtags        date                                               text  \\\n",
       "0     AAPL  2019-12-02  Apple worth more than US stock index’s energy ...   \n",
       "1     TSLA  2019-05-21  $TSLA A great thing about lowering the prices ...   \n",
       "2     TSLA  2019-08-29  $TSLA $220c from under $1 yesterday to $3.70.....   \n",
       "3     AAPL  2019-05-21  #Lynx cuts $AAPL PT $185 to $165.@LeverageShar...   \n",
       "4     AAPL  2019-10-11  tried to give those $Aapl bears a friendly hea...   \n",
       "\n",
       "                                      tokenized_text  \n",
       "0  apple worth stock index energy sector financia...  \n",
       "1  tsla great thing lower price make available mi...  \n",
       "2                                tsla yesterday easy  \n",
       "3           lynx cut aapl leverageshare aapl aap etp  \n",
       "4                        try aapl bear friendly head  "
      ]
     },
     "execution_count": 64,
     "metadata": {},
     "output_type": "execute_result"
    }
   ],
   "source": [
    "import spacy\n",
    "from nltk.tokenize import RegexpTokenizer\n",
    "import re\n",
    "from nltk.corpus import stopwords\n",
    "\n",
    "# Load the English language model\n",
    "nlp = spacy.load(\"en_core_web_sm\")\n",
    "\n",
    "def preprocess(sentence, stemming=False, lemmatizing=False):\n",
    "    # global counter\n",
    "    # counter += 1\n",
    "    # if counter % 100 == 0:\n",
    "    #     pass\n",
    "    #     # print(counter)\n",
    "\n",
    "    sentence = str(sentence)\n",
    "    #get rid of non-ascii characters\n",
    "    tokenizer = RegexpTokenizer(r'\\w+')\n",
    "\n",
    "    sentence = sentence.lower()\n",
    "    #get rid of links & special characters characters\n",
    "    sentence = sentence.replace('{html}', \"\")\n",
    "    cleanr = re.compile('<.*?>')\n",
    "    cleantext = re.sub(cleanr, '', sentence)\n",
    "    rem_url = re.sub(r'http\\S+', '', cleantext)\n",
    "    rem_num = re.sub('[0-9]+', '', rem_url)\n",
    "    tokens = tokenizer.tokenize(rem_num)\n",
    "\n",
    "    filtered_words = [w for w in tokens if w not in stopwords.words('english')]\n",
    "\n",
    "    if lemmatizing:\n",
    "        doc = nlp(\" \".join(filtered_words))\n",
    "        lemma_words = [token.lemma_ for token in doc if not token.is_punct and not token.is_space and not token.is_stop]\n",
    "        return \" \".join(lemma_words)\n",
    "\n",
    "    if stemming:\n",
    "        stemmer = PorterStemmer()\n",
    "        stem_words = [stemmer.stem(w) for w in filtered_words]\n",
    "        return \" \".join(stem_words)\n",
    "\n",
    "    return \" \".join(filtered_words)\n",
    "\n",
    "# Example usage\n",
    "df_sentiment['tokenized_text'] = df_sentiment['text'].apply(lambda x: preprocess(x, stemming=False, lemmatizing=True))\n",
    "df_sentiment.head()"
   ]
  },
  {
   "cell_type": "code",
   "execution_count": 65,
   "id": "21754c17-a6d4-45d6-b57d-56ee0857c091",
   "metadata": {},
   "outputs": [],
   "source": [
    "df_sentiment.drop_duplicates(subset=['tokenized_text','hashtags'], keep = 'first', inplace = True)"
   ]
  },
  {
   "cell_type": "code",
   "execution_count": 66,
   "id": "b70c3264-f7a2-4486-b2b6-baa649f4a426",
   "metadata": {
    "tags": []
   },
   "outputs": [
    {
     "data": {
      "text/html": [
       "<div>\n",
       "<style scoped>\n",
       "    .dataframe tbody tr th:only-of-type {\n",
       "        vertical-align: middle;\n",
       "    }\n",
       "\n",
       "    .dataframe tbody tr th {\n",
       "        vertical-align: top;\n",
       "    }\n",
       "\n",
       "    .dataframe thead th {\n",
       "        text-align: right;\n",
       "    }\n",
       "</style>\n",
       "<table border=\"1\" class=\"dataframe\">\n",
       "  <thead>\n",
       "    <tr style=\"text-align: right;\">\n",
       "      <th></th>\n",
       "      <th>hashtags</th>\n",
       "      <th>date</th>\n",
       "      <th>text</th>\n",
       "      <th>tokenized_text</th>\n",
       "      <th>sentiment</th>\n",
       "      <th>polarity</th>\n",
       "    </tr>\n",
       "  </thead>\n",
       "  <tbody>\n",
       "    <tr>\n",
       "      <th>10733</th>\n",
       "      <td>BTC</td>\n",
       "      <td>2021-06-23</td>\n",
       "      <td>#love #art #sunset #photography  #bitcoin #dog...</td>\n",
       "      <td>love art sunset photography bitcoin dogecoin a...</td>\n",
       "      <td>positive</td>\n",
       "      <td>0.5</td>\n",
       "    </tr>\n",
       "  </tbody>\n",
       "</table>\n",
       "</div>"
      ],
      "text/plain": [
       "      hashtags        date                                               text  \\\n",
       "10733      BTC  2021-06-23  #love #art #sunset #photography  #bitcoin #dog...   \n",
       "\n",
       "                                          tokenized_text sentiment  polarity  \n",
       "10733  love art sunset photography bitcoin dogecoin a...  positive       0.5  "
      ]
     },
     "execution_count": 66,
     "metadata": {},
     "output_type": "execute_result"
    }
   ],
   "source": [
    "import spacy\n",
    "from textblob import TextBlob\n",
    "\n",
    "nlp = spacy.load('en_core_web_sm')\n",
    "\n",
    "def analyze_sentiment(text):\n",
    "    doc = nlp(text)\n",
    "    blob = TextBlob(text)\n",
    "    \n",
    "    polarity = blob.sentiment.polarity\n",
    "    \n",
    "    if polarity > 0:\n",
    "        sentiment = 'positive'\n",
    "    elif polarity < 0:\n",
    "        sentiment = 'negative'\n",
    "    else:\n",
    "        sentiment = 'neutral'\n",
    "    \n",
    "    return sentiment, polarity\n",
    "\n",
    "# Assuming df is your DataFrame with 'text' column\n",
    "df_sentiment['sentiment'], df_sentiment['polarity'] = zip(*df_sentiment['tokenized_text'].apply(analyze_sentiment))\n",
    "\n",
    "df_sentiment = df_sentiment.sort_values('polarity').reset_index(drop=True)\n",
    "df_sentiment.sample()\n"
   ]
  },
  {
   "cell_type": "code",
   "execution_count": 68,
   "id": "69b58abe-9e36-4fce-bcfe-94f0826b8a69",
   "metadata": {
    "tags": []
   },
   "outputs": [
    {
     "data": {
      "text/plain": [
       "neutral     5368\n",
       "positive    4366\n",
       "negative    1908\n",
       "Name: sentiment, dtype: int64"
      ]
     },
     "execution_count": 68,
     "metadata": {},
     "output_type": "execute_result"
    }
   ],
   "source": [
    "df_sentiment[\"sentiment\"].value_counts()"
   ]
  },
  {
   "cell_type": "code",
   "execution_count": 67,
   "id": "56f3656b-6dd7-4ba1-8ebe-c9e58f55ab28",
   "metadata": {
    "tags": []
   },
   "outputs": [
    {
     "data": {
      "text/html": [
       "<div>\n",
       "<style scoped>\n",
       "    .dataframe tbody tr th:only-of-type {\n",
       "        vertical-align: middle;\n",
       "    }\n",
       "\n",
       "    .dataframe tbody tr th {\n",
       "        vertical-align: top;\n",
       "    }\n",
       "\n",
       "    .dataframe thead th {\n",
       "        text-align: right;\n",
       "    }\n",
       "</style>\n",
       "<table border=\"1\" class=\"dataframe\">\n",
       "  <thead>\n",
       "    <tr style=\"text-align: right;\">\n",
       "      <th></th>\n",
       "      <th>hashtags</th>\n",
       "      <th>date</th>\n",
       "      <th>text</th>\n",
       "      <th>tokenized_text</th>\n",
       "      <th>sentiment</th>\n",
       "      <th>polarity</th>\n",
       "    </tr>\n",
       "  </thead>\n",
       "  <tbody>\n",
       "    <tr>\n",
       "      <th>0</th>\n",
       "      <td>ETH</td>\n",
       "      <td>2021-11-15</td>\n",
       "      <td>$BORING #Bitcoin #oportal #Ethereum #GameFi #N...</td>\n",
       "      <td>boring bitcoin oportal ethereum gamefi nft def...</td>\n",
       "      <td>negative</td>\n",
       "      <td>-1.0</td>\n",
       "    </tr>\n",
       "    <tr>\n",
       "      <th>1</th>\n",
       "      <td>DOGE</td>\n",
       "      <td>2021-12-13</td>\n",
       "      <td>@WholeMarsBlog Penalizing sustainable energy i...</td>\n",
       "      <td>wholemarsblog penalize sustainable energy insane</td>\n",
       "      <td>negative</td>\n",
       "      <td>-1.0</td>\n",
       "    </tr>\n",
       "    <tr>\n",
       "      <th>2</th>\n",
       "      <td>ETH</td>\n",
       "      <td>2021-11-15</td>\n",
       "      <td>Almost lost the channel on $ETH. If this keeps...</td>\n",
       "      <td>lose channel eth keep go insane week ethereum</td>\n",
       "      <td>negative</td>\n",
       "      <td>-1.0</td>\n",
       "    </tr>\n",
       "    <tr>\n",
       "      <th>3</th>\n",
       "      <td>ETH</td>\n",
       "      <td>2021-11-14</td>\n",
       "      <td>@AssureDefi @unicat_token The $UNICAT #NFT is ...</td>\n",
       "      <td>assuredefi unicat_token unicat nft go insane e...</td>\n",
       "      <td>negative</td>\n",
       "      <td>-1.0</td>\n",
       "    </tr>\n",
       "    <tr>\n",
       "      <th>4</th>\n",
       "      <td>ETH</td>\n",
       "      <td>2021-11-15</td>\n",
       "      <td>How does anyone #trade or #build on #Ethereum ...</td>\n",
       "      <td>trade build ethereum outrageous gasfee</td>\n",
       "      <td>negative</td>\n",
       "      <td>-1.0</td>\n",
       "    </tr>\n",
       "  </tbody>\n",
       "</table>\n",
       "</div>"
      ],
      "text/plain": [
       "  hashtags        date                                               text  \\\n",
       "0      ETH  2021-11-15  $BORING #Bitcoin #oportal #Ethereum #GameFi #N...   \n",
       "1     DOGE  2021-12-13  @WholeMarsBlog Penalizing sustainable energy i...   \n",
       "2      ETH  2021-11-15  Almost lost the channel on $ETH. If this keeps...   \n",
       "3      ETH  2021-11-14  @AssureDefi @unicat_token The $UNICAT #NFT is ...   \n",
       "4      ETH  2021-11-15  How does anyone #trade or #build on #Ethereum ...   \n",
       "\n",
       "                                      tokenized_text sentiment  polarity  \n",
       "0  boring bitcoin oportal ethereum gamefi nft def...  negative      -1.0  \n",
       "1   wholemarsblog penalize sustainable energy insane  negative      -1.0  \n",
       "2      lose channel eth keep go insane week ethereum  negative      -1.0  \n",
       "3  assuredefi unicat_token unicat nft go insane e...  negative      -1.0  \n",
       "4             trade build ethereum outrageous gasfee  negative      -1.0  "
      ]
     },
     "execution_count": 67,
     "metadata": {},
     "output_type": "execute_result"
    }
   ],
   "source": [
    "df_sentiment.head()"
   ]
  },
  {
   "cell_type": "code",
   "execution_count": 54,
   "id": "d9182b04-0781-462f-a978-4bd0b674e6ff",
   "metadata": {},
   "outputs": [],
   "source": [
    "# Let us extract the most common words found in both positive and negative positive reviews\n",
    "df_neg = df_sentiment[df_sentiment['polarity'] < 0]\n",
    "df_pos = df_sentiment[df_sentiment['polarity'] > 0]"
   ]
  },
  {
   "cell_type": "code",
   "execution_count": 77,
   "id": "e6c874c2-734a-428b-a1bb-ee5c79fd2685",
   "metadata": {},
   "outputs": [],
   "source": [
    "df_neg.drop_duplicates(subset=['tokenized_text','hashtags'], keep = 'first', inplace = True)"
   ]
  },
  {
   "cell_type": "code",
   "execution_count": 78,
   "id": "e76daa03-b544-42ad-9d4e-1da4451817ed",
   "metadata": {},
   "outputs": [
    {
     "name": "stdout",
     "output_type": "stream",
     "text": [
      "Negative reviews\n"
     ]
    },
    {
     "data": {
      "text/html": [
       "<div>\n",
       "<style scoped>\n",
       "    .dataframe tbody tr th:only-of-type {\n",
       "        vertical-align: middle;\n",
       "    }\n",
       "\n",
       "    .dataframe tbody tr th {\n",
       "        vertical-align: top;\n",
       "    }\n",
       "\n",
       "    .dataframe thead th {\n",
       "        text-align: right;\n",
       "    }\n",
       "</style>\n",
       "<table border=\"1\" class=\"dataframe\">\n",
       "  <thead>\n",
       "    <tr style=\"text-align: right;\">\n",
       "      <th></th>\n",
       "      <th>hashtags</th>\n",
       "      <th>date</th>\n",
       "      <th>text</th>\n",
       "      <th>tokenized_text</th>\n",
       "      <th>sentiment</th>\n",
       "      <th>polarity</th>\n",
       "    </tr>\n",
       "  </thead>\n",
       "  <tbody>\n",
       "    <tr>\n",
       "      <th>0</th>\n",
       "      <td>TSLA</td>\n",
       "      <td>2019-10-22</td>\n",
       "      <td>$VISL OVERSOLD INSANE AT THIS price. BOUNCING$...</td>\n",
       "      <td>visl oversell insane price bounce spy vrus vys...</td>\n",
       "      <td>negative</td>\n",
       "      <td>-1.0</td>\n",
       "    </tr>\n",
       "    <tr>\n",
       "      <th>1</th>\n",
       "      <td>ETH</td>\n",
       "      <td>2021-11-14</td>\n",
       "      <td>$BORING #Bitcoin #oPortal #Ethereum #crosschai...</td>\n",
       "      <td>boring bitcoin oportal ethereum crosschain gam...</td>\n",
       "      <td>negative</td>\n",
       "      <td>-1.0</td>\n",
       "    </tr>\n",
       "    <tr>\n",
       "      <th>2</th>\n",
       "      <td>ETH</td>\n",
       "      <td>2021-11-15</td>\n",
       "      <td>$BORING #Bitcoin #oPortal #Ethereum #crosschai...</td>\n",
       "      <td>boring bitcoin oportal ethereum crosschain gam...</td>\n",
       "      <td>negative</td>\n",
       "      <td>-1.0</td>\n",
       "    </tr>\n",
       "    <tr>\n",
       "      <th>8</th>\n",
       "      <td>BTC</td>\n",
       "      <td>2023-01-07</td>\n",
       "      <td>Please vote for @RAIDTOKEN🔥\\n\\nhttps://t.co/6U...</td>\n",
       "      <td>vote raidtoken lack money root evil mark twain...</td>\n",
       "      <td>negative</td>\n",
       "      <td>-1.0</td>\n",
       "    </tr>\n",
       "    <tr>\n",
       "      <th>9</th>\n",
       "      <td>ETH</td>\n",
       "      <td>2021-11-14</td>\n",
       "      <td>$BORING #Bitcoin #oPortal #Ethereum #crosschai...</td>\n",
       "      <td>boring bitcoin oportal ethereum crosschain gam...</td>\n",
       "      <td>negative</td>\n",
       "      <td>-1.0</td>\n",
       "    </tr>\n",
       "  </tbody>\n",
       "</table>\n",
       "</div>"
      ],
      "text/plain": [
       "  hashtags        date                                               text  \\\n",
       "0     TSLA  2019-10-22  $VISL OVERSOLD INSANE AT THIS price. BOUNCING$...   \n",
       "1      ETH  2021-11-14  $BORING #Bitcoin #oPortal #Ethereum #crosschai...   \n",
       "2      ETH  2021-11-15  $BORING #Bitcoin #oPortal #Ethereum #crosschai...   \n",
       "8      BTC  2023-01-07  Please vote for @RAIDTOKEN🔥\\n\\nhttps://t.co/6U...   \n",
       "9      ETH  2021-11-14  $BORING #Bitcoin #oPortal #Ethereum #crosschai...   \n",
       "\n",
       "                                      tokenized_text sentiment  polarity  \n",
       "0  visl oversell insane price bounce spy vrus vys...  negative      -1.0  \n",
       "1  boring bitcoin oportal ethereum crosschain gam...  negative      -1.0  \n",
       "2  boring bitcoin oportal ethereum crosschain gam...  negative      -1.0  \n",
       "8  vote raidtoken lack money root evil mark twain...  negative      -1.0  \n",
       "9  boring bitcoin oportal ethereum crosschain gam...  negative      -1.0  "
      ]
     },
     "metadata": {},
     "output_type": "display_data"
    },
    {
     "name": "stdout",
     "output_type": "stream",
     "text": [
      "Positive reiews\n"
     ]
    },
    {
     "data": {
      "text/html": [
       "<div>\n",
       "<style scoped>\n",
       "    .dataframe tbody tr th:only-of-type {\n",
       "        vertical-align: middle;\n",
       "    }\n",
       "\n",
       "    .dataframe tbody tr th {\n",
       "        vertical-align: top;\n",
       "    }\n",
       "\n",
       "    .dataframe thead th {\n",
       "        text-align: right;\n",
       "    }\n",
       "</style>\n",
       "<table border=\"1\" class=\"dataframe\">\n",
       "  <thead>\n",
       "    <tr style=\"text-align: right;\">\n",
       "      <th></th>\n",
       "      <th>hashtags</th>\n",
       "      <th>date</th>\n",
       "      <th>text</th>\n",
       "      <th>tokenized_text</th>\n",
       "      <th>sentiment</th>\n",
       "      <th>polarity</th>\n",
       "    </tr>\n",
       "  </thead>\n",
       "  <tbody>\n",
       "    <tr>\n",
       "      <th>7929</th>\n",
       "      <td>DOGE</td>\n",
       "      <td>2021-10-27</td>\n",
       "      <td>@wapodavenport US national debt is ~$28,900 bi...</td>\n",
       "      <td>wapodavenport national debt billion taxpayer t...</td>\n",
       "      <td>positive</td>\n",
       "      <td>4.625929e-18</td>\n",
       "    </tr>\n",
       "    <tr>\n",
       "      <th>7930</th>\n",
       "      <td>DOGE</td>\n",
       "      <td>2021-02-19</td>\n",
       "      <td>@business To be clear, I am *not* an investor,...</td>\n",
       "      <td>business clear investor engineer publicly trad...</td>\n",
       "      <td>positive</td>\n",
       "      <td>1.110223e-17</td>\n",
       "    </tr>\n",
       "    <tr>\n",
       "      <th>7931</th>\n",
       "      <td>AAPL</td>\n",
       "      <td>2019-01-17</td>\n",
       "      <td>OMG! Algos have completely taken over trading!...</td>\n",
       "      <td>omg algo completely take trading scary huge mo...</td>\n",
       "      <td>positive</td>\n",
       "      <td>1.850372e-17</td>\n",
       "    </tr>\n",
       "    <tr>\n",
       "      <th>7932</th>\n",
       "      <td>DOGE</td>\n",
       "      <td>2021-03-06</td>\n",
       "      <td>@westcoastbill The $1400 is mostly good imo (U...</td>\n",
       "      <td>westcoastbill good imo ubi lite people choose ...</td>\n",
       "      <td>positive</td>\n",
       "      <td>2.775558e-17</td>\n",
       "    </tr>\n",
       "    <tr>\n",
       "      <th>7933</th>\n",
       "      <td>TSLA</td>\n",
       "      <td>2019-02-26</td>\n",
       "      <td>Tesla Model 3 Consumer Satisfaction In Germany...</td>\n",
       "      <td>tesla model consumer satisfaction germany good...</td>\n",
       "      <td>positive</td>\n",
       "      <td>5.551115e-17</td>\n",
       "    </tr>\n",
       "  </tbody>\n",
       "</table>\n",
       "</div>"
      ],
      "text/plain": [
       "     hashtags        date                                               text  \\\n",
       "7929     DOGE  2021-10-27  @wapodavenport US national debt is ~$28,900 bi...   \n",
       "7930     DOGE  2021-02-19  @business To be clear, I am *not* an investor,...   \n",
       "7931     AAPL  2019-01-17  OMG! Algos have completely taken over trading!...   \n",
       "7932     DOGE  2021-03-06  @westcoastbill The $1400 is mostly good imo (U...   \n",
       "7933     TSLA  2019-02-26  Tesla Model 3 Consumer Satisfaction In Germany...   \n",
       "\n",
       "                                         tokenized_text sentiment  \\\n",
       "7929  wapodavenport national debt billion taxpayer t...  positive   \n",
       "7930  business clear investor engineer publicly trad...  positive   \n",
       "7931  omg algo completely take trading scary huge mo...  positive   \n",
       "7932  westcoastbill good imo ubi lite people choose ...  positive   \n",
       "7933  tesla model consumer satisfaction germany good...  positive   \n",
       "\n",
       "          polarity  \n",
       "7929  4.625929e-18  \n",
       "7930  1.110223e-17  \n",
       "7931  1.850372e-17  \n",
       "7932  2.775558e-17  \n",
       "7933  5.551115e-17  "
      ]
     },
     "metadata": {},
     "output_type": "display_data"
    }
   ],
   "source": [
    "# Amount of positive and negative reviews we have been inferring from our data,\n",
    "# Let's a have general idea about the opinion of the public regarding tweets:\n",
    "print(\"Negative reviews\")\n",
    "display(df_neg.head(5))\n",
    "print(\"Positive reiews\")\n",
    "display(df_pos.head(5))"
   ]
  },
  {
   "cell_type": "code",
   "execution_count": 74,
   "id": "fb127e19-ec48-495e-b6e8-2c037564ba65",
   "metadata": {},
   "outputs": [],
   "source": [
    "from collections import Counter\n",
    "\n",
    "# Extracting the most common words found in both positive and negative positive reviews:\n",
    "positive_words = pd.DataFrame([dict(Counter(' '.join(df_pos['tokenized_text'].values.tolist()).split(' ')))]).T.sort_values(0, ascending=False)[0:100].index\n",
    "\n",
    "negative_words = pd.DataFrame([dict(Counter(' '.join(df_neg['tokenized_text'].values.tolist()).split(' ')))]).T.sort_values(0, ascending=False)[0:100].index"
   ]
  },
  {
   "cell_type": "code",
   "execution_count": 75,
   "id": "87b92deb-755a-4e23-8f6e-59023a81a327",
   "metadata": {},
   "outputs": [
    {
     "data": {
      "text/plain": [
       "'Most common words in POSITIVE tweets on ETH:'"
      ]
     },
     "metadata": {},
     "output_type": "display_data"
    },
    {
     "data": {
      "text/plain": [
       "Index(['bitcoin', 'ethereum', 'btc', 'eth', 'tsla', 'crypto', 'nft', 'aapl',\n",
       "       'good', 'cryptocurrency', 'project', 'new', 'amp', 'tesla', 'amzn',\n",
       "       'free', 'high', 'like', 'great', 'stock', 'price', 'join', 'nfts',\n",
       "       'buy', 'time', 'bnb', 'bsc', 'binance', 'day', 'nftcollector',\n",
       "       'blockchain', 'market', 'nftcommunity', 'look', 'sure', 'go', 'trading',\n",
       "       'right', 'defi', 'opensea', 'year', 'shib', 'nflx', 'link', 'work',\n",
       "       'airdrop', 'low', 'money', 'come', 'trade', 'team', 'doge', 'long',\n",
       "       'follow', 'need', 'tslaq', 'spy', 'week', 'future', 'altcoin',\n",
       "       'dogecoin', 'use', 'real', 'nftartist', 'car', 'love', 'spacex',\n",
       "       'nftart', 'awesome', 'strong', 'people', 'live', 'find', 'googl',\n",
       "       'today', 'rarible', 'sell', 'play', 'cryptocurrencie', 'big', 'worth',\n",
       "       'news', 'nvda', 'win', 'solana', 'want', 'think', 'invest', 'start',\n",
       "       'user', 'true', 'coin', 'short', 'art', 'well', 'ada', 'nice',\n",
       "       'openseanft', 'check', 'haha'],\n",
       "      dtype='object')"
      ]
     },
     "metadata": {},
     "output_type": "display_data"
    },
    {
     "data": {
      "text/plain": [
       "'Most common words in NEGATIVE tweets on ETH:'"
      ]
     },
     "metadata": {},
     "output_type": "display_data"
    },
    {
     "data": {
      "text/plain": [
       "Index(['rarible', 'ethereum', 'nft', 'collectible', 'nonfungible',\n",
       "       'digitalasset', 'flow', 'bitcoin', 'eth', 'btc', 'tsla', 'look', 'find',\n",
       "       'crypto', 'aapl', 'mint', 'blockchain', 'long', 'wallet', 'unknown',\n",
       "       'amp', 'amzn', 'tesla', 'new', 'time', 'market', 'usd', 'price',\n",
       "       'nftcollector', 'detail', 'buy', 'nfts', 'date', 'gmt', 'like', 'defi',\n",
       "       'symbol', 'cryptocurrency', 'stock', 'binance', 'nftcommunity', 'drop',\n",
       "       'tslaq', 'mean', 'hard', 'year', 'day', 'game', 'go', 'late', 'nflx',\n",
       "       'nftart', 'bad', 'voxel', 'dancer', 'need', 'spy', 'today', 'base',\n",
       "       'car', 'money', 'trade', 'low', 'people', 'bear', 'opensea', 'come',\n",
       "       'term', 'short', 'sell', 'boring', 'altcoin', 'think', 'bnb', 'change',\n",
       "       'week', 'say', 'green', 'see', 'amd', 'spacex', 'gamefi', 'shib',\n",
       "       'elonmusk', 'nftdrop', 'company', 'news', 'active', 'qqq',\n",
       "       'nftgiveaway', 'nftartist', 'thing', 'cap', 'follow', 'small', 'way',\n",
       "       'crosschain', 'oportal', 'elon', 'art'],\n",
       "      dtype='object')"
      ]
     },
     "metadata": {},
     "output_type": "display_data"
    }
   ],
   "source": [
    "display(\"Most common words in POSITIVE tweets on ETH:\",positive_words)\n",
    "display(\"Most common words in NEGATIVE tweets on ETH:\",negative_words)"
   ]
  },
  {
   "cell_type": "code",
   "execution_count": 89,
   "id": "5cfe1a4e-727d-4d1a-b62d-3f705666b8e6",
   "metadata": {},
   "outputs": [
    {
     "data": {
      "image/png": "[encoded data removed]",
      "text/plain": [
       "<Figure size 1200x600 with 1 Axes>"
      ]
     },
     "metadata": {},
     "output_type": "display_data"
    }
   ],
   "source": [
    "import pandas as pd\n",
    "import matplotlib.pyplot as plt\n",
    "\n",
    "# Assuming df_sentiment is your DataFrame with 'date' and 'sentiment' columns\n",
    "# Convert the 'date' column to datetime\n",
    "# Convert the 'date' column to datetime with the correct format\n",
    "#df_sentiment['date'] = pd.to_datetime(df_sentiment['date'], format='%Y-%m-%d')\n",
    "\n",
    "# Group the data by date and sentiment, then count the number of tweets\n",
    "sentiment_counts = df_sentiment.groupby(['date', 'sentiment']).size().unstack(fill_value=0)\n",
    "\n",
    "# Resample the data by day and fill any missing dates\n",
    "#sentiment_counts = sentiment_counts.resample('D').sum()\n",
    "\n",
    "# Create a line chart\n",
    "plt.figure(figsize=(12, 6))\n",
    "plt.plot(sentiment_counts.index, sentiment_counts['positive'], label='Positive', marker='o')\n",
    "plt.plot(sentiment_counts.index, sentiment_counts['negative'], label='Negative', marker='o')\n",
    "plt.plot(sentiment_counts.index, sentiment_counts['neutral'], label='Neutral', marker='o')\n",
    "\n",
    "plt.xlabel('Date')\n",
    "plt.ylabel('Number of Tweets')\n",
    "plt.title('Analysis Over Time')\n",
    "plt.legend()\n",
    "plt.grid(True)\n",
    "\n",
    "# Show the plot\n",
    "plt.show()"
   ]
  },
  {
   "cell_type": "code",
   "execution_count": 88,
   "id": "6e445b3c-8cfe-4dc8-867c-c2f373607a37",
   "metadata": {},
   "outputs": [
    {
     "data": {
      "text/plain": [
       "date\n",
       "2019-01-02     2\n",
       "2019-01-03    10\n",
       "2019-01-04     6\n",
       "2019-01-05     0\n",
       "2019-01-06     1\n",
       "              ..\n",
       "2022-12-27     6\n",
       "2023-01-06     1\n",
       "2023-01-07     8\n",
       "2023-01-08     1\n",
       "2023-01-09     7\n",
       "Name: positive, Length: 827, dtype: int64"
      ]
     },
     "execution_count": 88,
     "metadata": {},
     "output_type": "execute_result"
    }
   ],
   "source": [
    "sentiment_counts['positive']"
   ]
  },
  {
   "cell_type": "markdown",
   "id": "31028502-2ed3-4844-8ca9-b014e9782840",
   "metadata": {},
   "source": [
    "### Stock price data cleaning"
   ]
  },
  {
   "cell_type": "code",
   "execution_count": null,
   "id": "d15f12ec-f953-4af6-b14d-ecf34eaa1335",
   "metadata": {},
   "outputs": [],
   "source": [
    "#import tsla stock price and filter the date\n",
    "tsla_csv = Path(\"TSLA.csv\")\n",
    "tsla_df = pd.read_csv(tsla_csv, index_col=\"Date\", parse_dates=True)\n",
    "tsla_df.sort_index()\n",
    "tsla_df['Ticker'] = 'TSLA'\n",
    "tsla_df = tsla_df[['Ticker', 'Close']]\n",
    "tsla_df.index = pd.to_datetime(tsla_df.index)\n",
    "start_date = '2019-01-01 00:00:00'\n",
    "end_date = '2022-12-31 23:59:59'\n",
    "tsla_df = tsla_df[(tsla_df.index >= start_date) & (tsla_df.index <= end_date)]\n",
    "tsla_df.head()"
   ]
  },
  {
   "cell_type": "code",
   "execution_count": null,
   "id": "d19e7b4b-bcec-4ece-9f7f-0d1944d23814",
   "metadata": {
    "tags": []
   },
   "outputs": [],
   "source": [
    "#import amzn stock price and filter the date\n",
    "amzn_csv = Path(\"AMZN.csv\")\n",
    "amzn_df = pd.read_csv(amzn_csv, index_col=\"Date\", parse_dates=True)\n",
    "amzn_df.sort_index()\n",
    "amzn_df['Ticker'] = 'AMZN'\n",
    "amzn_df = amzn_df[['Ticker', 'Close']]\n",
    "amzn_df.index = pd.to_datetime(amzn_df.index)\n",
    "start_date = '2019-01-01 00:00:00'\n",
    "end_date = '2022-12-31 23:59:59'\n",
    "amzn_df = amzn_df[(amzn_df.index >= start_date) & (amzn_df.index <= end_date)]\n",
    "amzn_df.head()"
   ]
  },
  {
   "cell_type": "code",
   "execution_count": null,
   "id": "15423174-659b-4616-88ee-4a8bf06227d0",
   "metadata": {},
   "outputs": [],
   "source": [
    "#import aapl stock price and filter the date\n",
    "aapl_csv = Path(\"AAPL.csv\")\n",
    "aapl_df = pd.read_csv(aapl_csv, index_col=\"Date\", parse_dates=True)\n",
    "aapl_df.sort_index()\n",
    "aapl_df['Ticker'] = 'AAPL'\n",
    "aapl_df = aapl_df[['Ticker', 'Close']]\n",
    "aapl_df.index = pd.to_datetime(aapl_df.index)\n",
    "start_date = '2019-01-01 00:00:00'\n",
    "end_date = '2022-12-31 23:59:59'\n",
    "aapl_df = aapl_df[(aapl_df.index >= start_date) & (aapl_df.index <= end_date)]\n",
    "aapl_df.head()"
   ]
  },
  {
   "cell_type": "code",
   "execution_count": null,
   "id": "6a5a2aba-701b-43f0-a7fe-5afa999b61f8",
   "metadata": {},
   "outputs": [],
   "source": []
  },
  {
   "cell_type": "code",
   "execution_count": null,
   "id": "18b56a2c-3087-4162-91b6-230106789fe1",
   "metadata": {},
   "outputs": [],
   "source": [
    "# Import doge prices csv\n",
    "doge_prices = pd.read_csv('Resources/dogecoin_prices_2021.csv', \n",
    "    infer_datetime_format=True, \n",
    "    parse_dates=True)\n",
    "\n",
    "# display dataframe\n",
    "doge_prices.head()"
   ]
  },
  {
   "cell_type": "code",
   "execution_count": null,
   "id": "7a0c9c13-c30c-4b98-af02-738e8444d59a",
   "metadata": {},
   "outputs": [],
   "source": [
    "#fetching closing prices for Doge\n",
    "doge_prices = doge_prices[doge_prices['open_time'].str.contains('23:59')]\n",
    "doge_prices.columns = ['date', 'price']\n",
    "\n",
    "# display dataframe\n",
    "doge_prices.head()"
   ]
  },
  {
   "cell_type": "code",
   "execution_count": null,
   "id": "6fe064ee-447d-4bcf-a59f-6fd31f1dc74f",
   "metadata": {
    "tags": []
   },
   "outputs": [],
   "source": [
    "#get rid of links and hashtags\n",
    "# sample_sentiment_analysis_df[\"text\"] = combined_df[\"text\"].apply(lambda x : ' '.join([s for s in x.split(' ') if s.find('@') == -1 and s.find('www') == -1 and s.find('https') == -1]))\n",
    "\n",
    "# #get rid of non-ascii characters\n",
    "# sample_sentiment_analysis_df = sample_sentiment_analysis_df.replace(r'\\W+', ' ', regex=True)\n",
    "\n",
    "\n",
    "# # get rid of tweet duplicates to not bias the sentiment analysis\n",
    "# sample_sentiment_analysis_df = sample_sentiment_analysis_df.drop_duplicates(subset=['text'])\n",
    "# sample_sentiment_analysis_df"
   ]
  },
  {
   "cell_type": "code",
   "execution_count": null,
   "id": "0f208634-8f03-415f-9f75-078e043485f8",
   "metadata": {
    "tags": []
   },
   "outputs": [],
   "source": [
    "# # Tokenize the body text\n",
    "# import nltk\n",
    "# from nltk.tokenize import word_tokenize\n",
    "\n",
    "# nltk.download('punkt')\n",
    "\n",
    "# # Sample text\n",
    "# sample_sentiment_analysis_df['tokenized_body'] = sample_sentiment_analysis_df['text'].apply(word_tokenize)\n",
    "\n",
    "# # Tokenize\n",
    "# sample_sentiment_analysis_df.sample()"
   ]
  },
  {
   "cell_type": "code",
   "execution_count": null,
   "id": "1e7747a7-6e47-4612-9426-ef85f2dc4470",
   "metadata": {
    "tags": []
   },
   "outputs": [],
   "source": [
    "# from nltk.corpus import stopwords\n",
    "# nltk.download('stopwords')\n",
    "# nltk.download('punkt')\n",
    "\n",
    "# def remove_stopwords(tokens):\n",
    "#     return [word for word in tokens if word.lower() not in stopwords.words('english')]\n",
    "\n",
    "# sample_sentiment_analysis_df['tokenized_body'] = sample_sentiment_analysis_df['tokenized_body'].apply(remove_stopwords)\n",
    "\n",
    "# sample_sentiment_analysis_df.sample()"
   ]
  }
 ],
 "metadata": {
  "kernelspec": {
   "display_name": "Python 3 (ipykernel)",
   "language": "python",
   "name": "python3"
  },
  "language_info": {
   "codemirror_mode": {
    "name": "ipython",
    "version": 3
   },
   "file_extension": ".py",
   "mimetype": "text/x-python",
   "name": "python",
   "nbconvert_exporter": "python",
   "pygments_lexer": "ipython3",
   "version": "3.10.9"
  }
 },
 "nbformat": 4,
 "nbformat_minor": 5
}
