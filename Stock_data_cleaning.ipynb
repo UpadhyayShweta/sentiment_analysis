{
 "cells": [
  {
   "cell_type": "code",
   "execution_count": null,
   "id": "a8922fe3-0316-49f7-8001-1b4c60d83591",
   "metadata": {
    "tags": []
   },
   "outputs": [],
   "source": [
    "import pandas as pd\n",
    "import numpy as np\n",
    "import datetime as dt\n",
    "from pathlib import Path"
   ]
  },
  {
   "cell_type": "code",
   "execution_count": null,
   "id": "f0b5ee46-2c54-475b-b11a-fa1c659e74cf",
   "metadata": {
    "tags": []
   },
   "outputs": [],
   "source": [
    "#import Company_Tweet.csv\n",
    "Company_Tweet_df = pd.read_csv(Path(\"Company_Tweet.csv\"))\n",
    "Company_Tweet_df = Company_Tweet_df.set_index('tweet_id')\n",
    "Company_Tweet_df.head()"
   ]
  },
  {
   "cell_type": "code",
   "execution_count": null,
   "id": "3911c1a2-0215-45ef-acc9-e89b50b0dd60",
   "metadata": {
    "tags": []
   },
   "outputs": [],
   "source": [
    "#import Tweet.csv\n",
    "tweet_df = pd.read_csv(Path(\"Tweet.csv\"))\n",
    "tweet_df = tweet_df.set_index('tweet_id')\n",
    "tweet_df.head()"
   ]
  },
  {
   "cell_type": "code",
   "execution_count": null,
   "id": "585b9c1e-98d1-4f72-b431-aedf9d21f800",
   "metadata": {
    "tags": []
   },
   "outputs": [],
   "source": [
    "#merge to df into one\n",
    "Company_tweet_result = tweet_df.merge(Company_Tweet_df, left_index=True, right_index=True)"
   ]
  },
  {
   "cell_type": "code",
   "execution_count": null,
   "id": "45197158-2f17-458e-9adc-b2b6f2b28cc8",
   "metadata": {
    "tags": []
   },
   "outputs": [],
   "source": [
    "#select relavent ticker and column.\n",
    "selected_df = Company_tweet_result[Company_tweet_result['ticker_symbol'].isin(['AAPL', 'TSLA', 'TWTR'])]\n",
    "selected_df = selected_df[['ticker_symbol', 'post_date','body']]\n",
    "selected_df.sample()"
   ]
  },
  {
   "cell_type": "code",
   "execution_count": null,
   "id": "bd248b52-e5c8-479f-bb12-957d8535d408",
   "metadata": {
    "tags": []
   },
   "outputs": [],
   "source": [
    "#convert date into standard format\n",
    "selected_df['post_date'] = pd.to_datetime(selected_df['post_date'], unit='s')\n",
    "selected_df.sample()"
   ]
  },
  {
   "cell_type": "code",
   "execution_count": null,
   "id": "ead75e1d-986d-417f-a1da-a5930755b416",
   "metadata": {
    "tags": []
   },
   "outputs": [],
   "source": [
    "# Use boolean indexing to filter the rows\n",
    "start_date = '2019-01-01 00:00:00'\n",
    "end_date = '2022-12-31 23:59:59'\n",
    "\n",
    "stock_tweet_df = selected_df[(selected_df['post_date'] >= start_date) & (selected_df['post_date'] <= end_date)]\n",
    "\n",
    "stock_tweet_df.head()"
   ]
  },
  {
   "cell_type": "code",
   "execution_count": null,
   "id": "5db10b88-d79a-48c7-ae5e-4c39f54e7243",
   "metadata": {
    "tags": []
   },
   "outputs": [],
   "source": [
    "!pip install nltk\n"
   ]
  },
  {
   "cell_type": "code",
   "execution_count": null,
   "id": "0f208634-8f03-415f-9f75-078e043485f8",
   "metadata": {
    "tags": []
   },
   "outputs": [],
   "source": [
    "# Tokenize the body text\n",
    "import nltk\n",
    "from nltk.tokenize import word_tokenize\n",
    "\n",
    "nltk.download('punkt')\n",
    "\n",
    "# Sample text\n",
    "stock_tweet_df['tokenized_body'] = stock_tweet_df['body'].apply(word_tokenize)\n",
    "\n",
    "# Tokenize\n",
    "print(stock_tweet_df)"
   ]
  },
  {
   "cell_type": "code",
   "execution_count": null,
   "id": "1e7747a7-6e47-4612-9426-ef85f2dc4470",
   "metadata": {
    "tags": []
   },
   "outputs": [],
   "source": [
    "from nltk.corpus import stopwords\n",
    "nltk.download('stopwords')\n",
    "nltk.download('punkt')\n",
    "\n",
    "def remove_stopwords(tokens):\n",
    "    return [word for word in tokens if word.lower() not in stopwords.words('english')]\n",
    "\n",
    "stock_tweet_df['tokenized_body_no_stopwords'] = stock_tweet_df['tokenized_body'].apply(remove_stopwords)\n",
    "\n",
    "print(stock_tweet_df)"
   ]
  },
  {
   "cell_type": "code",
   "execution_count": null,
   "id": "15423174-659b-4616-88ee-4a8bf06227d0",
   "metadata": {},
   "outputs": [],
   "source": [
    "#import aapl stock price and filter the date\n",
    "aapl_csv = Path(\"AAPL.csv\")\n",
    "aapl_df = pd.read_csv(aapl_csv, index_col=\"Date\", parse_dates=True)\n",
    "aapl_df.sort_index()\n",
    "aapl_df['Ticker'] = 'AAPL'\n",
    "aapl_df = aapl_df[['Ticker', 'Close']]\n",
    "aapl_df.index = pd.to_datetime(aapl_df.index)\n",
    "start_date = '2019-01-01 00:00:00'\n",
    "end_date = '2022-12-31 23:59:59'\n",
    "aapl_df = aapl_df[(aapl_df.index >= start_date) & (aapl_df.index <= end_date)]\n",
    "aapl_df.head()"
   ]
  },
  {
   "cell_type": "code",
   "execution_count": null,
   "id": "d15f12ec-f953-4af6-b14d-ecf34eaa1335",
   "metadata": {},
   "outputs": [],
   "source": [
    "#import tsla stock price and filter the date\n",
    "tsla_csv = Path(\"TSLA.csv\")\n",
    "tsla_df = pd.read_csv(tsla_csv, index_col=\"Date\", parse_dates=True)\n",
    "tsla_df.sort_index()\n",
    "tsla_df['Ticker'] = 'TSLA'\n",
    "tsla_df = tsla_df[['Ticker', 'Close']]\n",
    "tsla_df.index = pd.to_datetime(tsla_df.index)\n",
    "start_date = '2019-01-01 00:00:00'\n",
    "end_date = '2022-12-31 23:59:59'\n",
    "tsla_df = tsla_df[(tsla_df.index >= start_date) & (tsla_df.index <= end_date)]\n",
    "tsla_df.head()"
   ]
  },
  {
   "cell_type": "code",
   "execution_count": null,
   "id": "d19e7b4b-bcec-4ece-9f7f-0d1944d23814",
   "metadata": {
    "tags": []
   },
   "outputs": [],
   "source": [
    "#import twer stock price and filter the date\n",
    "twer_csv = Path(\"TWER.csv\")\n",
    "twer_df = pd.read_csv(twer_csv, index_col=\"Date\", parse_dates=True)\n",
    "twer_df.sort_index()\n",
    "twer_df['Ticker'] = 'TWER'\n",
    "twer_df = tsla_df[['Ticker', 'Close']]\n",
    "twer_df.index = pd.to_datetime(twer_df.index)\n",
    "start_date = '2019-01-01 00:00:00'\n",
    "end_date = '2022-12-31 23:59:59'\n",
    "twer_df = twer_df[(twer_df.index >= start_date) & (twer_df.index <= end_date)]\n",
    "twer_df.head()"
   ]
  }
 ],
 "metadata": {
  "kernelspec": {
   "display_name": "Python 3 (ipykernel)",
   "language": "python",
   "name": "python3"
  },
  "language_info": {
   "codemirror_mode": {
    "name": "ipython",
    "version": 3
   },
   "file_extension": ".py",
   "mimetype": "text/x-python",
   "name": "python",
   "nbconvert_exporter": "python",
   "pygments_lexer": "ipython3",
   "version": "3.10.9"
  }
 },
 "nbformat": 4,
 "nbformat_minor": 5
}
